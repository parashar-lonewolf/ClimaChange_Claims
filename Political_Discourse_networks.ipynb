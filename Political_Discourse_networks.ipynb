{
 "cells": [
  {
   "cell_type": "code",
   "execution_count": 1,
   "metadata": {},
   "outputs": [],
   "source": [
    "## libraries\n",
    "import pandas as pd\n",
    "import json\n",
    "import re\n",
    "import warnings\n",
    "import pickle\n",
    "import jgraph\n",
    "import collections\n",
    "import time\n",
    "from IPython.display import Markdown\n",
    "warnings.filterwarnings('ignore')\n"
   ]
  },
  {
   "cell_type": "markdown",
   "metadata": {},
   "source": [
    "## Political Discourse Network  "
   ]
  },
  {
   "cell_type": "markdown",
   "metadata": {},
   "source": [
    "#### 1. Claim clusters and cleaned actor list "
   ]
  },
  {
   "cell_type": "code",
   "execution_count": 2,
   "metadata": {},
   "outputs": [],
   "source": [
    "with open(\"clustered_claims_PolDis_v2_kmeansA.pkl\", 'rb') as f:\n",
    "    ##                                  max_df,min_df,ngram_range\n",
    "    ## claim_list,top6_cluster_features,0.2,   0.02,  (1,6)\n",
    "    arr_text = pickle.load(f)\n",
    "    claim_text = arr_text[0]\n",
    "    claim_names = arr_text[1]\n",
    "\n",
    "with open(\"clean_actors_PolDis_v2.pkl\", 'rb') as f:\n",
    "    actor = pickle.load(f)\n",
    "with open(\"supp_opp_ank.pkl\", 'rb') as f:\n",
    "    supp_opp = pickle.load(f)"
   ]
  },
  {
   "cell_type": "markdown",
   "metadata": {},
   "source": [
    "#### 2. Timestamp list for time-lapse graph "
   ]
  },
  {
   "cell_type": "code",
   "execution_count": 3,
   "metadata": {},
   "outputs": [],
   "source": [
    "## gather trimestamps\n",
    "claim_text_ank = open(\"Claims_ank.txt\").read()\n",
    "claims_split = claim_text_ank.split(\"\\n\\n#\") \n",
    "# actor = []\n",
    "# claims = []\n",
    "timestamps = []\n",
    "count = 0\n",
    "for c in claims_split:\n",
    "    txt = c.split(\"DATED: \")[-1]\n",
    "    txt1 = txt.split(\"/\")[0]+\"/\"+txt.split(\"/\")[1]\n",
    "#     txt = txt.replace(txt1,\"\")\n",
    "    timestamps.append(txt1)\n",
    "    count+=1"
   ]
  },
  {
   "cell_type": "code",
   "execution_count": 4,
   "metadata": {},
   "outputs": [],
   "source": [
    "## for finding which actors are pronouns\n",
    "pronoun_index = []\n",
    "act_count = 0\n",
    "for i in claim_text['actor']:\n",
    "    if(i.lower() == \"'i'\" or i.lower() == \"'he'\"):\n",
    "        pronoun_index.append(act_count)\n",
    "    act_count+=1"
   ]
  },
  {
   "cell_type": "code",
   "execution_count": 5,
   "metadata": {},
   "outputs": [
    {
     "name": "stdout",
     "output_type": "stream",
     "text": [
      "[3, 44, 57, 63, 81, 85, 90, 99, 135, 140, 146, 241, 281]\n"
     ]
    }
   ],
   "source": [
    "claim_text['actor']\n",
    "print(pronoun_index)\n",
    "# for i in pronoun_index:\n",
    "#     print(\"#######################\")\n",
    "#     print(claim_text['actor'][i])\n",
    "#     print(claim_text['claims'][i])"
   ]
  },
  {
   "cell_type": "code",
   "execution_count": 6,
   "metadata": {},
   "outputs": [],
   "source": [
    "## code for colour print display\n",
    "# display (Markdown('this is in <span style=\"color:#ff0000\">'+act_claim+'</span> color.'))"
   ]
  },
  {
   "cell_type": "markdown",
   "metadata": {},
   "source": [
    "#### Actor clustering "
   ]
  },
  {
   "cell_type": "code",
   "execution_count": 7,
   "metadata": {
    "scrolled": true
   },
   "outputs": [],
   "source": [
    "## special curated list\n",
    "act_stopwords = ['mr.','dr.','i','the','a','we','of','and','other ','at','his','number','some',\n",
    "             'officials','department','programs','agency','coalition','leaders','organizations','expert'\n",
    "            'groups','powerful','organization','institute','trade', 'industry','advisers','laboratories',\n",
    "             'fund','policy','university','panel','treaty','union','view','dominant','senator']\n",
    "tricky_words = ['president','administrations','countries']\n",
    "\n",
    "## actor group clustering\n",
    "act_count = 0\n",
    "act_cluster = [-1]*len(actor)\n",
    "cluster_no = 0\n",
    "\n",
    "## regex-substituter for actor stopwords\n",
    "replace_stopwords = re.compile('|'.join(map(re.escape, act_stopwords)))\n",
    "act_cluster_keys = []\n",
    "## searching for word by word exactness of actors\n",
    "while True: ######################################################### SUPER_LOOP START\n",
    "    ## stop words replaced, so checking not necessary\n",
    "    a1 = (replace_stopwords.sub(\"\",actor[act_count].lower())).split()       # [actor-1] to be checked with....\n",
    "    sub_act_count = 0\n",
    "    ## every super-loop restarts [actor-1] as a NEW CLUSTER\n",
    "    act_cluster[act_count]=cluster_no\n",
    "    \n",
    "    ## looping through every actor till a cluster is formed\n",
    "    while True:  ##------------------------------------------## sub_LOOP START\n",
    "        ## stop words replaced, so checking not necessary\n",
    "        a2 = (replace_stopwords.sub(\"\",actor[sub_act_count].lower())).split()   # ...[actor-2] for semantic overlap\n",
    "\n",
    "        ## proceeding only if [actor-2] is NOT CLUSTERED\n",
    "        if(act_cluster[sub_act_count]==-1):                \n",
    "                ## adding actors to clusters based on word exactness\n",
    "                \n",
    "                ## need two matches minimum per actor for actors with tricky words\n",
    "                a_match = 1+ int(any(i in a1 for i in tricky_words) or any(i in a2 for i in tricky_words))\n",
    "                                \n",
    "                ## 1. checking if they are an exact match\n",
    "                if(\"\".join(a1) == \"\".join(a2)):         \n",
    "                    act_cluster[sub_act_count] = cluster_no\n",
    "\n",
    "                ## 2. checking for partial match except 'stopwords'\n",
    "                else:\n",
    "                    ## looping actor-1 with actor-2 for partial match\n",
    "                    for i in a1:   #-----------------------------------------## actor-1 START\n",
    "                        for j in a2:         #-----------------------------------------## actor-2 START\n",
    "                            ## word by word exactness\n",
    "                            if(i == j):\n",
    "                                a_match-=1\n",
    "                            ##baby-loop-1--------------------------------------## actor-2 END        \n",
    "                        ##baby-loop-1--------------------------------------## actor-1 END\n",
    "                        if(a_match<=0):\n",
    "                            act_cluster[sub_act_count] = cluster_no\n",
    "                            break\n",
    "                                \n",
    "        ## sub-loop count iterator ---------------------------## sub_LOOP END\n",
    "        sub_act_count+=1\n",
    "        ## sub-loop maker and breaker\n",
    "        try:\n",
    "            temp = actor[sub_act_count]\n",
    "        except:\n",
    "            break            \n",
    "        while act_cluster[sub_act_count]!=-1:\n",
    "            sub_act_count+=1\n",
    "            if(sub_act_count==(len(actor)-1)):\n",
    "                break\n",
    "            \n",
    "\n",
    "    act_cluster_keys.append(actor[act_count])        \n",
    "    ## super-loop count iterator##################################### SUPER_LOOP END\n",
    "    act_count+=1\n",
    "    ## super-loop maker and breaker\n",
    "    try:\n",
    "        temp = actor[act_count]\n",
    "    except:\n",
    "        break\n",
    "    while act_cluster[act_count]!=-1:\n",
    "        act_count+=1\n",
    "        if(act_count==(len(actor)-1)):\n",
    "            break\n",
    "    ## at every super loop, one cluster is formed\n",
    "    cluster_no+=1\n",
    "                    "
   ]
  },
  {
   "cell_type": "code",
   "execution_count": 8,
   "metadata": {},
   "outputs": [],
   "source": [
    "## the colour pallete for the network\n",
    "##          dark    -  colours     \n",
    "claim_color_pallete = [0x490357 ,0x022055 ,0x194B00 ,0x410200 ,0x512402  ]\n",
    "##                     black     increment\n",
    "actor_color_pallete = [0xaaaaaa ,0x010a71  ]"
   ]
  },
  {
   "cell_type": "code",
   "execution_count": 9,
   "metadata": {},
   "outputs": [
    {
     "data": {
      "text/plain": [
       "dict_keys(['actor', 'claims', 'cluster'])"
      ]
     },
     "execution_count": 9,
     "metadata": {},
     "output_type": "execute_result"
    }
   ],
   "source": [
    "## kMeans cluster keys\n",
    "claim_text.keys()\n",
    "# act_cluster"
   ]
  },
  {
   "cell_type": "code",
   "execution_count": 10,
   "metadata": {},
   "outputs": [
    {
     "name": "stdout",
     "output_type": "stream",
     "text": [
      "{'1995/01': 10, '1997/01': 1, '1997/02': 4, '1997/03': 11, '1997/06': 84, '1997/07': 23, '1997/08': 26, '1997/09': 36, '1997/10': 91}\n"
     ]
    }
   ],
   "source": [
    "## cluster counts\n",
    "# act_cluster_counts = {str(i):act_cluster.count(i) for i in act_cluster}\n",
    "# print(len(act_cluster_counts))\n",
    "# print()\n",
    "# claim_cluster_counts = {str(i):claim_text['cluster'].count(i) for i in claim_text['cluster']}\n",
    "# print(len(claim_cluster_counts))\n",
    "timestamps_counts = {str(i):timestamps.count(i) for i in timestamps}\n",
    "print(timestamps_counts)"
   ]
  },
  {
   "cell_type": "code",
   "execution_count": 11,
   "metadata": {},
   "outputs": [
    {
     "data": {
      "text/plain": [
       "dict_keys(['1995/01', '1997/01', '1997/02', '1997/03', '1997/06', '1997/07', '1997/08', '1997/09', '1997/10'])"
      ]
     },
     "execution_count": 11,
     "metadata": {},
     "output_type": "execute_result"
    }
   ],
   "source": [
    "timestamps_counts.keys()"
   ]
  },
  {
   "cell_type": "code",
   "execution_count": 12,
   "metadata": {},
   "outputs": [],
   "source": [
    "## discourse newtork graph\n",
    "pol_dis_nw     =  {\n",
    "                    'nodes':{},\n",
    "                    'edges':{}\n",
    "                    }\n",
    "edge_subdict    = {'source': '', 'target': '', 'size': 0, 'color':0x000000}\n",
    "node_subsubdict = {'color': 0x000000, 'size': 0.0}\n",
    "claim_text['supp_opp'] = supp_opp "
   ]
  },
  {
   "cell_type": "markdown",
   "metadata": {},
   "source": [
    "#### Political Discourse graph of all actor and claim clusters"
   ]
  },
  {
   "cell_type": "code",
   "execution_count": 13,
   "metadata": {},
   "outputs": [],
   "source": [
    "### for making the actor claim discourse network\n",
    "def act_claim_graph(claim_text,act_cluster,actor,supp_opp,init,end):\n",
    "    ## main vars\n",
    "    act_cluster = act_cluster[init:end]\n",
    "    actor = actor[init:end]\n",
    "    cluster = claim_text['cluster'][init:end]\n",
    "    supp_opp = supp_opp[init:end]\n",
    "    \n",
    "    ## cluster counts\n",
    "    act_cluster_counts = {str(i):act_cluster.count(i) for i in act_cluster}\n",
    "    claim_cluster_counts = {str(i):cluster.count(i) for i in cluster}\n",
    "\n",
    "\n",
    "    ## the colour pallete for the network\n",
    "    ##          dark    -  colours     \n",
    "    claim_color_pallete = [0x490357 ,0x022055 ,0x194B00 ,0x410200 ,0x512402  ]\n",
    "    ##                     colour    + increment\n",
    "    actor_color_pallete = [0xaaaaaa ,0x010a71  ]\n",
    "    \n",
    "    ## -1. timewise-graph creator\n",
    "\n",
    "    ## 0. the jgraph \n",
    "    pol_dis_nw     =  {\n",
    "                    'nodes':{},\n",
    "                    'edges':{}\n",
    "                    }\n",
    "    ## 1. edge propertoes\n",
    "    edge_size = {'+':1.5,'-':0.5}\n",
    "    edge_col = {'+':0xFFAF03,'-':0xaaaaaa}\n",
    "    \n",
    "    ## 2. nodes\n",
    "    ## a. actor nodes\n",
    "    nodes = {}\n",
    "    node_colours = {}\n",
    "    \n",
    "    act_col = actor_color_pallete[0]\n",
    "    actXsize = (1/max(act_cluster_counts.values()))*1 \n",
    "    for key in act_cluster_counts.keys():\n",
    "        i = act_cluster_counts[key]\n",
    "        i = 0.5+(actXsize*i)                        ## actor node size range(0.5,1.5)\n",
    "        ## storing node clour for index\n",
    "        node_colours[key] = act_col\n",
    "        sub_node = {'color': act_col,'size':i}\n",
    "        nodes[key] = sub_node\n",
    "        act_col+=actor_color_pallete[1]\n",
    "    #     break\n",
    "    ## b. claim nodes\n",
    "    # for colour, 'claim_color_pallete'\n",
    "    claimXsize = (1/max(claim_cluster_counts.values()))*2.5\n",
    "    for key in claim_cluster_counts.keys():\n",
    "        i = claim_cluster_counts[key]\n",
    "        i = 1+(claimXsize*i)                           ## claim node size range(1,3.5)\n",
    "        ## storing node clour for index\n",
    "        node_colours['C'+key] = claim_color_pallete[int(key)]\n",
    "        sub_node = {'color': claim_color_pallete[int(key)],'size':i}\n",
    "        nodes['C'+key] = sub_node\n",
    "        act_col+=actor_color_pallete[1]\n",
    "    #     break\n",
    "    pol_dis_nw['nodes'] = nodes\n",
    "    \n",
    "    \n",
    "    ## 3. edges\n",
    "    ## a. actor nodes\n",
    "    edges = []\n",
    "    for i in range(0,len(actor)):\n",
    "        source = act_cluster[i]\n",
    "        e_size = edge_size[supp_opp[i]]\n",
    "        e_col = edge_col[supp_opp[i]]\n",
    "        sub_edge = {'source': str(source), 'target': 'C'+str(cluster[i]), 'size': 1, 'color': e_col}\n",
    "        edges.append(sub_edge)\n",
    "    #     break\n",
    "    pol_dis_nw['edges'] = edges\n",
    "    \n",
    "    # import json\n",
    "    # print( json.dumps(pol_dis_nw))\n",
    "    # edge_subdict\n",
    "    return(pol_dis_nw,node_colours)"
   ]
  },
  {
   "cell_type": "markdown",
   "metadata": {},
   "source": [
    "#### 1. Full Graph of entire network "
   ]
  },
  {
   "cell_type": "code",
   "execution_count": 14,
   "metadata": {
    "scrolled": false
   },
   "outputs": [],
   "source": [
    "# jgraph.draw(act_claim_graph(claim_text,act_cluster,actor,supp_opp,0,-1))"
   ]
  },
  {
   "cell_type": "markdown",
   "metadata": {},
   "source": [
    "#### 2. Month-wise timelapse of actor-claim network  "
   ]
  },
  {
   "cell_type": "code",
   "execution_count": 15,
   "metadata": {
    "scrolled": false
   },
   "outputs": [
    {
     "data": {
      "text/markdown": [
       "<span style=\"color:#000000\">1995/01</span>"
      ],
      "text/plain": [
       "<IPython.core.display.Markdown object>"
      ]
     },
     "metadata": {},
     "output_type": "display_data"
    },
    {
     "data": {
      "text/markdown": [
       "<span style=\"color:#000000\">INDEX:</span>"
      ],
      "text/plain": [
       "<IPython.core.display.Markdown object>"
      ]
     },
     "metadata": {},
     "output_type": "display_data"
    },
    {
     "data": {
      "text/markdown": [
       "<span style=\"color:#000000\">1. ACTOR NODES </span>"
      ],
      "text/plain": [
       "<IPython.core.display.Markdown object>"
      ]
     },
     "metadata": {},
     "output_type": "display_data"
    },
    {
     "data": {
      "text/markdown": [
       "Cluster_0: <span style=\"color:#aaaaaa\">'Shigejiro Sugiyama':</span>"
      ],
      "text/plain": [
       "<IPython.core.display.Markdown object>"
      ]
     },
     "metadata": {},
     "output_type": "display_data"
    },
    {
     "data": {
      "text/markdown": [
       "Cluster_1: <span style=\"color:#abb51b\">'I':</span>"
      ],
      "text/plain": [
       "<IPython.core.display.Markdown object>"
      ]
     },
     "metadata": {},
     "output_type": "display_data"
    },
    {
     "data": {
      "text/markdown": [
       "Cluster_2: <span style=\"color:#acbf8c\">'Satoo,':</span>"
      ],
      "text/plain": [
       "<IPython.core.display.Markdown object>"
      ]
     },
     "metadata": {},
     "output_type": "display_data"
    },
    {
     "data": {
      "text/markdown": [
       "Cluster_3: <span style=\"color:#adc9fd\">'Yoichi Kaya':</span>"
      ],
      "text/plain": [
       "<IPython.core.display.Markdown object>"
      ]
     },
     "metadata": {},
     "output_type": "display_data"
    },
    {
     "data": {
      "text/markdown": [
       "Cluster_4: <span style=\"color:#aed46e\">'Mitsunobu Oonishi':</span>"
      ],
      "text/plain": [
       "<IPython.core.display.Markdown object>"
      ]
     },
     "metadata": {},
     "output_type": "display_data"
    },
    {
     "data": {
      "text/markdown": [
       "<span style=\"color:#000000\">2. CLAIM NODES </span>"
      ],
      "text/plain": [
       "<IPython.core.display.Markdown object>"
      ]
     },
     "metadata": {},
     "output_type": "display_data"
    },
    {
     "data": {
      "text/markdown": [
       "Cluster_C4: <span style=\"color:#512402\">country-developing-developing-controlling-industrial-treaty:</span>"
      ],
      "text/plain": [
       "<IPython.core.display.Markdown object>"
      ]
     },
     "metadata": {},
     "output_type": "display_data"
    },
    {
     "data": {
      "text/markdown": [
       "Cluster_C0: <span style=\"color:#490357\">greenhouse-american-reduce-energy-administration-binding:</span>"
      ],
      "text/plain": [
       "<IPython.core.display.Markdown object>"
      ]
     },
     "metadata": {},
     "output_type": "display_data"
    },
    {
     "data": {
      "text/html": [
       "<div id=\"graph-504e165c-4b79-473e-9378-7a2082138707\"></div>\n",
       "           <script type=\"text/javascript\">\n",
       "           require.config({baseUrl: '/',\n",
       "                             paths: {jgraph: ['nbextensions/jgraph.min', 'https://rawgit.com/patrickfuller/jgraph/master/js/build/jgraph.min']}});\n",
       "           require(['jgraph'], function () {\n",
       "               var $d = $('#graph-504e165c-4b79-473e-9378-7a2082138707');\n",
       "               $d.width(600); $d.height(400);\n",
       "               $d.jgraph = jQuery.extend({}, jgraph);\n",
       "               $d.jgraph.create($d, {nodeSize: 2.000000,\n",
       "                                     edgeSize: 0.250000,\n",
       "                                     defaultNodeColor: '0x5bc0de',\n",
       "                                     defaultEdgeColor: '0xaaaaaa',\n",
       "                                     shader: 'basic',\n",
       "                                     z: 100,\n",
       "                                     runOptimization: true,\n",
       "                                     directed: true,\n",
       "                                     showSave: false});\n",
       "               $d.jgraph.draw({\n",
       "    \"edges\": [\n",
       "        { \"color\": \"0xffaf03\", \"size\": 1, \"source\": \"0\", \"target\": \"C4\" },\n",
       "        { \"color\": \"0xffaf03\", \"size\": 1, \"source\": \"0\", \"target\": \"C0\" },\n",
       "        { \"color\": \"0xaaaaaa\", \"size\": 1, \"source\": \"0\", \"target\": \"C0\" },\n",
       "        { \"color\": \"0xffaf03\", \"size\": 1, \"source\": \"1\", \"target\": \"C0\" },\n",
       "        { \"color\": \"0xaaaaaa\", \"size\": 1, \"source\": \"2\", \"target\": \"C0\" },\n",
       "        { \"color\": \"0xaaaaaa\", \"size\": 1, \"source\": \"3\", \"target\": \"C0\" },\n",
       "        { \"color\": \"0xffaf03\", \"size\": 1, \"source\": \"3\", \"target\": \"C0\" },\n",
       "        { \"color\": \"0xffaf03\", \"size\": 1, \"source\": \"4\", \"target\": \"C0\" },\n",
       "        { \"color\": \"0xffaf03\", \"size\": 1, \"source\": \"4\", \"target\": \"C0\" }\n",
       "    ],\n",
       "    \"nodes\": {\n",
       "        \"0\": { \"color\": \"0xaaaaaa\", \"size\": 1.5 },\n",
       "        \"1\": { \"color\": \"0xabb51b\", \"size\": 0.8333333333333333 },\n",
       "        \"2\": { \"color\": \"0xacbf8c\", \"size\": 0.8333333333333333 },\n",
       "        \"3\": { \"color\": \"0xadc9fd\", \"size\": 1.1666666666666665 },\n",
       "        \"4\": { \"color\": \"0xaed46e\", \"size\": 1.1666666666666665 },\n",
       "        \"C0\": { \"color\": \"0x490357\", \"size\": 3.5 },\n",
       "        \"C4\": { \"color\": \"0x512402\", \"size\": 1.3125 }\n",
       "    }\n",
       "});\n",
       "\n",
       "               $d.resizable({\n",
       "                   aspectRatio: 600 / 400,\n",
       "                   resize: function (evt, ui) {\n",
       "                       $d.jgraph.renderer.setSize(ui.size.width,\n",
       "                                                  ui.size.height);\n",
       "                   }\n",
       "               });\n",
       "           });\n",
       "           </script>"
      ],
      "text/plain": [
       "<IPython.core.display.HTML object>"
      ]
     },
     "metadata": {},
     "output_type": "display_data"
    },
    {
     "data": {
      "text/markdown": [
       "<span style=\"color:#000000\">1997/01</span>"
      ],
      "text/plain": [
       "<IPython.core.display.Markdown object>"
      ]
     },
     "metadata": {},
     "output_type": "display_data"
    },
    {
     "data": {
      "text/markdown": [
       "<span style=\"color:#000000\">INDEX:</span>"
      ],
      "text/plain": [
       "<IPython.core.display.Markdown object>"
      ]
     },
     "metadata": {},
     "output_type": "display_data"
    },
    {
     "data": {
      "text/markdown": [
       "<span style=\"color:#000000\">1. ACTOR NODES </span>"
      ],
      "text/plain": [
       "<IPython.core.display.Markdown object>"
      ]
     },
     "metadata": {},
     "output_type": "display_data"
    },
    {
     "data": {
      "text/markdown": [
       "Cluster_5: <span style=\"color:#aaaaaa\">'Michiro Maki':</span>"
      ],
      "text/plain": [
       "<IPython.core.display.Markdown object>"
      ]
     },
     "metadata": {},
     "output_type": "display_data"
    },
    {
     "data": {
      "text/markdown": [
       "<span style=\"color:#000000\">2. CLAIM NODES </span>"
      ],
      "text/plain": [
       "<IPython.core.display.Markdown object>"
      ]
     },
     "metadata": {},
     "output_type": "display_data"
    },
    {
     "data": {
      "text/markdown": [
       "Cluster_C0: <span style=\"color:#490357\">greenhouse-american-reduce-energy-administration-binding:</span>"
      ],
      "text/plain": [
       "<IPython.core.display.Markdown object>"
      ]
     },
     "metadata": {},
     "output_type": "display_data"
    },
    {
     "data": {
      "text/html": [
       "<div id=\"graph-ae4cbf9d-80e5-4110-8af0-79841a5f893e\"></div>\n",
       "           <script type=\"text/javascript\">\n",
       "           require.config({baseUrl: '/',\n",
       "                             paths: {jgraph: ['nbextensions/jgraph.min', 'https://rawgit.com/patrickfuller/jgraph/master/js/build/jgraph.min']}});\n",
       "           require(['jgraph'], function () {\n",
       "               var $d = $('#graph-ae4cbf9d-80e5-4110-8af0-79841a5f893e');\n",
       "               $d.width(600); $d.height(400);\n",
       "               $d.jgraph = jQuery.extend({}, jgraph);\n",
       "               $d.jgraph.create($d, {nodeSize: 2.000000,\n",
       "                                     edgeSize: 0.250000,\n",
       "                                     defaultNodeColor: '0x5bc0de',\n",
       "                                     defaultEdgeColor: '0xaaaaaa',\n",
       "                                     shader: 'basic',\n",
       "                                     z: 100,\n",
       "                                     runOptimization: true,\n",
       "                                     directed: true,\n",
       "                                     showSave: false});\n",
       "               $d.jgraph.draw({\n",
       "    \"edges\": [\n",
       "        { \"color\": \"0xffaf03\", \"size\": 1, \"source\": \"5\", \"target\": \"C0\" }\n",
       "    ],\n",
       "    \"nodes\": {\n",
       "        \"5\": { \"color\": \"0xaaaaaa\", \"size\": 1.5 },\n",
       "        \"C0\": { \"color\": \"0x490357\", \"size\": 3.5 }\n",
       "    }\n",
       "});\n",
       "\n",
       "               $d.resizable({\n",
       "                   aspectRatio: 600 / 400,\n",
       "                   resize: function (evt, ui) {\n",
       "                       $d.jgraph.renderer.setSize(ui.size.width,\n",
       "                                                  ui.size.height);\n",
       "                   }\n",
       "               });\n",
       "           });\n",
       "           </script>"
      ],
      "text/plain": [
       "<IPython.core.display.HTML object>"
      ]
     },
     "metadata": {},
     "output_type": "display_data"
    },
    {
     "data": {
      "text/markdown": [
       "<span style=\"color:#000000\">1997/02</span>"
      ],
      "text/plain": [
       "<IPython.core.display.Markdown object>"
      ]
     },
     "metadata": {},
     "output_type": "display_data"
    },
    {
     "data": {
      "text/markdown": [
       "<span style=\"color:#000000\">INDEX:</span>"
      ],
      "text/plain": [
       "<IPython.core.display.Markdown object>"
      ]
     },
     "metadata": {},
     "output_type": "display_data"
    },
    {
     "data": {
      "text/markdown": [
       "<span style=\"color:#000000\">1. ACTOR NODES </span>"
      ],
      "text/plain": [
       "<IPython.core.display.Markdown object>"
      ]
     },
     "metadata": {},
     "output_type": "display_data"
    },
    {
     "data": {
      "text/markdown": [
       "Cluster_6: <span style=\"color:#aaaaaa\">'the journal Nature':</span>"
      ],
      "text/plain": [
       "<IPython.core.display.Markdown object>"
      ]
     },
     "metadata": {},
     "output_type": "display_data"
    },
    {
     "data": {
      "text/markdown": [
       "Cluster_7: <span style=\"color:#abb51b\">'Paul Krugman':</span>"
      ],
      "text/plain": [
       "<IPython.core.display.Markdown object>"
      ]
     },
     "metadata": {},
     "output_type": "display_data"
    },
    {
     "data": {
      "text/markdown": [
       "Cluster_8: <span style=\"color:#acbf8c\">'William Nordhaus':</span>"
      ],
      "text/plain": [
       "<IPython.core.display.Markdown object>"
      ]
     },
     "metadata": {},
     "output_type": "display_data"
    },
    {
     "data": {
      "text/markdown": [
       "Cluster_9: <span style=\"color:#adc9fd\">'Stephen DeCanio':</span>"
      ],
      "text/plain": [
       "<IPython.core.display.Markdown object>"
      ]
     },
     "metadata": {},
     "output_type": "display_data"
    },
    {
     "data": {
      "text/markdown": [
       "<span style=\"color:#000000\">2. CLAIM NODES </span>"
      ],
      "text/plain": [
       "<IPython.core.display.Markdown object>"
      ]
     },
     "metadata": {},
     "output_type": "display_data"
    },
    {
     "data": {
      "text/markdown": [
       "Cluster_C3: <span style=\"color:#410200\">warming-global-global-threat-gases-dioxide:</span>"
      ],
      "text/plain": [
       "<IPython.core.display.Markdown object>"
      ]
     },
     "metadata": {},
     "output_type": "display_data"
    },
    {
     "data": {
      "text/markdown": [
       "Cluster_C1: <span style=\"color:#22055\">climate-change-climate-human-scientific-''the:</span>"
      ],
      "text/plain": [
       "<IPython.core.display.Markdown object>"
      ]
     },
     "metadata": {},
     "output_type": "display_data"
    },
    {
     "data": {
      "text/markdown": [
       "Cluster_C2: <span style=\"color:#194b00\">'s-percent-greenhouse-nations-gases-reduce:</span>"
      ],
      "text/plain": [
       "<IPython.core.display.Markdown object>"
      ]
     },
     "metadata": {},
     "output_type": "display_data"
    },
    {
     "data": {
      "text/markdown": [
       "Cluster_C0: <span style=\"color:#490357\">greenhouse-american-reduce-energy-administration-binding:</span>"
      ],
      "text/plain": [
       "<IPython.core.display.Markdown object>"
      ]
     },
     "metadata": {},
     "output_type": "display_data"
    },
    {
     "data": {
      "text/html": [
       "<div id=\"graph-6e947266-8750-452b-8c67-aa94dad0f483\"></div>\n",
       "           <script type=\"text/javascript\">\n",
       "           require.config({baseUrl: '/',\n",
       "                             paths: {jgraph: ['nbextensions/jgraph.min', 'https://rawgit.com/patrickfuller/jgraph/master/js/build/jgraph.min']}});\n",
       "           require(['jgraph'], function () {\n",
       "               var $d = $('#graph-6e947266-8750-452b-8c67-aa94dad0f483');\n",
       "               $d.width(600); $d.height(400);\n",
       "               $d.jgraph = jQuery.extend({}, jgraph);\n",
       "               $d.jgraph.create($d, {nodeSize: 2.000000,\n",
       "                                     edgeSize: 0.250000,\n",
       "                                     defaultNodeColor: '0x5bc0de',\n",
       "                                     defaultEdgeColor: '0xaaaaaa',\n",
       "                                     shader: 'basic',\n",
       "                                     z: 100,\n",
       "                                     runOptimization: true,\n",
       "                                     directed: true,\n",
       "                                     showSave: false});\n",
       "               $d.jgraph.draw({\n",
       "    \"edges\": [\n",
       "        { \"color\": \"0xffaf03\", \"size\": 1, \"source\": \"6\", \"target\": \"C3\" },\n",
       "        { \"color\": \"0xffaf03\", \"size\": 1, \"source\": \"7\", \"target\": \"C1\" },\n",
       "        { \"color\": \"0xffaf03\", \"size\": 1, \"source\": \"8\", \"target\": \"C2\" },\n",
       "        { \"color\": \"0xffaf03\", \"size\": 1, \"source\": \"9\", \"target\": \"C0\" }\n",
       "    ],\n",
       "    \"nodes\": {\n",
       "        \"6\": { \"color\": \"0xaaaaaa\", \"size\": 1.5 },\n",
       "        \"7\": { \"color\": \"0xabb51b\", \"size\": 1.5 },\n",
       "        \"8\": { \"color\": \"0xacbf8c\", \"size\": 1.5 },\n",
       "        \"9\": { \"color\": \"0xadc9fd\", \"size\": 1.5 },\n",
       "        \"C0\": { \"color\": \"0x490357\", \"size\": 3.5 },\n",
       "        \"C1\": { \"color\": \"0x22055\", \"size\": 3.5 },\n",
       "        \"C2\": { \"color\": \"0x194b00\", \"size\": 3.5 },\n",
       "        \"C3\": { \"color\": \"0x410200\", \"size\": 3.5 }\n",
       "    }\n",
       "});\n",
       "\n",
       "               $d.resizable({\n",
       "                   aspectRatio: 600 / 400,\n",
       "                   resize: function (evt, ui) {\n",
       "                       $d.jgraph.renderer.setSize(ui.size.width,\n",
       "                                                  ui.size.height);\n",
       "                   }\n",
       "               });\n",
       "           });\n",
       "           </script>"
      ],
      "text/plain": [
       "<IPython.core.display.HTML object>"
      ]
     },
     "metadata": {},
     "output_type": "display_data"
    },
    {
     "data": {
      "text/markdown": [
       "<span style=\"color:#000000\">1997/03</span>"
      ],
      "text/plain": [
       "<IPython.core.display.Markdown object>"
      ]
     },
     "metadata": {},
     "output_type": "display_data"
    },
    {
     "data": {
      "text/markdown": [
       "<span style=\"color:#000000\">INDEX:</span>"
      ],
      "text/plain": [
       "<IPython.core.display.Markdown object>"
      ]
     },
     "metadata": {},
     "output_type": "display_data"
    },
    {
     "data": {
      "text/markdown": [
       "<span style=\"color:#000000\">1. ACTOR NODES </span>"
      ],
      "text/plain": [
       "<IPython.core.display.Markdown object>"
      ]
     },
     "metadata": {},
     "output_type": "display_data"
    },
    {
     "data": {
      "text/markdown": [
       "Cluster_10: <span style=\"color:#aaaaaa\">'Robert Hahn':</span>"
      ],
      "text/plain": [
       "<IPython.core.display.Markdown object>"
      ]
     },
     "metadata": {},
     "output_type": "display_data"
    },
    {
     "data": {
      "text/markdown": [
       "Cluster_6: <span style=\"color:#abb51b\">'the journal Nature':</span>"
      ],
      "text/plain": [
       "<IPython.core.display.Markdown object>"
      ]
     },
     "metadata": {},
     "output_type": "display_data"
    },
    {
     "data": {
      "text/markdown": [
       "Cluster_11: <span style=\"color:#acbf8c\">'Al Gore':</span>"
      ],
      "text/plain": [
       "<IPython.core.display.Markdown object>"
      ]
     },
     "metadata": {},
     "output_type": "display_data"
    },
    {
     "data": {
      "text/markdown": [
       "<span style=\"color:#000000\">2. CLAIM NODES </span>"
      ],
      "text/plain": [
       "<IPython.core.display.Markdown object>"
      ]
     },
     "metadata": {},
     "output_type": "display_data"
    },
    {
     "data": {
      "text/markdown": [
       "Cluster_C0: <span style=\"color:#490357\">greenhouse-american-reduce-energy-administration-binding:</span>"
      ],
      "text/plain": [
       "<IPython.core.display.Markdown object>"
      ]
     },
     "metadata": {},
     "output_type": "display_data"
    },
    {
     "data": {
      "text/markdown": [
       "Cluster_C3: <span style=\"color:#410200\">warming-global-global-threat-gases-dioxide:</span>"
      ],
      "text/plain": [
       "<IPython.core.display.Markdown object>"
      ]
     },
     "metadata": {},
     "output_type": "display_data"
    },
    {
     "data": {
      "text/markdown": [
       "Cluster_C4: <span style=\"color:#512402\">country-developing-developing-controlling-industrial-treaty:</span>"
      ],
      "text/plain": [
       "<IPython.core.display.Markdown object>"
      ]
     },
     "metadata": {},
     "output_type": "display_data"
    },
    {
     "data": {
      "text/html": [
       "<div id=\"graph-fb926175-bbe6-49d6-a9eb-814f9ac26fb6\"></div>\n",
       "           <script type=\"text/javascript\">\n",
       "           require.config({baseUrl: '/',\n",
       "                             paths: {jgraph: ['nbextensions/jgraph.min', 'https://rawgit.com/patrickfuller/jgraph/master/js/build/jgraph.min']}});\n",
       "           require(['jgraph'], function () {\n",
       "               var $d = $('#graph-fb926175-bbe6-49d6-a9eb-814f9ac26fb6');\n",
       "               $d.width(600); $d.height(400);\n",
       "               $d.jgraph = jQuery.extend({}, jgraph);\n",
       "               $d.jgraph.create($d, {nodeSize: 2.000000,\n",
       "                                     edgeSize: 0.250000,\n",
       "                                     defaultNodeColor: '0x5bc0de',\n",
       "                                     defaultEdgeColor: '0xaaaaaa',\n",
       "                                     shader: 'basic',\n",
       "                                     z: 100,\n",
       "                                     runOptimization: true,\n",
       "                                     directed: true,\n",
       "                                     showSave: false});\n",
       "               $d.jgraph.draw({\n",
       "    \"edges\": [\n",
       "        { \"color\": \"0xffaf03\", \"size\": 1, \"source\": \"10\", \"target\": \"C0\" },\n",
       "        { \"color\": \"0xaaaaaa\", \"size\": 1, \"source\": \"6\", \"target\": \"C0\" },\n",
       "        { \"color\": \"0xaaaaaa\", \"size\": 1, \"source\": \"6\", \"target\": \"C0\" },\n",
       "        { \"color\": \"0xffaf03\", \"size\": 1, \"source\": \"6\", \"target\": \"C0\" },\n",
       "        { \"color\": \"0xffaf03\", \"size\": 1, \"source\": \"6\", \"target\": \"C0\" },\n",
       "        { \"color\": \"0xffaf03\", \"size\": 1, \"source\": \"6\", \"target\": \"C0\" },\n",
       "        { \"color\": \"0xffaf03\", \"size\": 1, \"source\": \"11\", \"target\": \"C0\" },\n",
       "        { \"color\": \"0xffaf03\", \"size\": 1, \"source\": \"6\", \"target\": \"C0\" },\n",
       "        { \"color\": \"0xffaf03\", \"size\": 1, \"source\": \"11\", \"target\": \"C3\" },\n",
       "        { \"color\": \"0xffaf03\", \"size\": 1, \"source\": \"6\", \"target\": \"C4\" },\n",
       "        { \"color\": \"0xaaaaaa\", \"size\": 1, \"source\": \"6\", \"target\": \"C0\" }\n",
       "    ],\n",
       "    \"nodes\": {\n",
       "        \"10\": { \"color\": \"0xaaaaaa\", \"size\": 0.625 },\n",
       "        \"11\": { \"color\": \"0xacbf8c\", \"size\": 0.75 },\n",
       "        \"6\": { \"color\": \"0xabb51b\", \"size\": 1.5 },\n",
       "        \"C0\": { \"color\": \"0x490357\", \"size\": 3.5 },\n",
       "        \"C3\": { \"color\": \"0x410200\", \"size\": 1.2777777777777777 },\n",
       "        \"C4\": { \"color\": \"0x512402\", \"size\": 1.2777777777777777 }\n",
       "    }\n",
       "});\n",
       "\n",
       "               $d.resizable({\n",
       "                   aspectRatio: 600 / 400,\n",
       "                   resize: function (evt, ui) {\n",
       "                       $d.jgraph.renderer.setSize(ui.size.width,\n",
       "                                                  ui.size.height);\n",
       "                   }\n",
       "               });\n",
       "           });\n",
       "           </script>"
      ],
      "text/plain": [
       "<IPython.core.display.HTML object>"
      ]
     },
     "metadata": {},
     "output_type": "display_data"
    },
    {
     "data": {
      "text/markdown": [
       "<span style=\"color:#000000\">1997/06</span>"
      ],
      "text/plain": [
       "<IPython.core.display.Markdown object>"
      ]
     },
     "metadata": {},
     "output_type": "display_data"
    },
    {
     "data": {
      "text/markdown": [
       "<span style=\"color:#000000\">INDEX:</span>"
      ],
      "text/plain": [
       "<IPython.core.display.Markdown object>"
      ]
     },
     "metadata": {},
     "output_type": "display_data"
    },
    {
     "data": {
      "text/markdown": [
       "<span style=\"color:#000000\">1. ACTOR NODES </span>"
      ],
      "text/plain": [
       "<IPython.core.display.Markdown object>"
      ]
     },
     "metadata": {},
     "output_type": "display_data"
    },
    {
     "data": {
      "text/markdown": [
       "Cluster_12: <span style=\"color:#aaaaaa\">'Bush Administration':</span>"
      ],
      "text/plain": [
       "<IPython.core.display.Markdown object>"
      ]
     },
     "metadata": {},
     "output_type": "display_data"
    },
    {
     "data": {
      "text/markdown": [
       "Cluster_13: <span style=\"color:#abb51b\">'United Nations reports':</span>"
      ],
      "text/plain": [
       "<IPython.core.display.Markdown object>"
      ]
     },
     "metadata": {},
     "output_type": "display_data"
    },
    {
     "data": {
      "text/markdown": [
       "Cluster_6: <span style=\"color:#acbf8c\">'the journal Nature':</span>"
      ],
      "text/plain": [
       "<IPython.core.display.Markdown object>"
      ]
     },
     "metadata": {},
     "output_type": "display_data"
    },
    {
     "data": {
      "text/markdown": [
       "Cluster_14: <span style=\"color:#adc9fd\">'161 countries (not including the United States).':</span>"
      ],
      "text/plain": [
       "<IPython.core.display.Markdown object>"
      ]
     },
     "metadata": {},
     "output_type": "display_data"
    },
    {
     "data": {
      "text/markdown": [
       "Cluster_15: <span style=\"color:#aed46e\">'they':</span>"
      ],
      "text/plain": [
       "<IPython.core.display.Markdown object>"
      ]
     },
     "metadata": {},
     "output_type": "display_data"
    },
    {
     "data": {
      "text/markdown": [
       "Cluster_16: <span style=\"color:#afdedf\">'President Clinton':</span>"
      ],
      "text/plain": [
       "<IPython.core.display.Markdown object>"
      ]
     },
     "metadata": {},
     "output_type": "display_data"
    },
    {
     "data": {
      "text/markdown": [
       "Cluster_17: <span style=\"color:#b0e950\">'all 16 NATO countries':</span>"
      ],
      "text/plain": [
       "<IPython.core.display.Markdown object>"
      ]
     },
     "metadata": {},
     "output_type": "display_data"
    },
    {
     "data": {
      "text/markdown": [
       "Cluster_18: <span style=\"color:#b1f3c1\">'Samuel R. Berger,':</span>"
      ],
      "text/plain": [
       "<IPython.core.display.Markdown object>"
      ]
     },
     "metadata": {},
     "output_type": "display_data"
    },
    {
     "data": {
      "text/markdown": [
       "Cluster_19: <span style=\"color:#b2fe32\">'Tony Blair,':</span>"
      ],
      "text/plain": [
       "<IPython.core.display.Markdown object>"
      ]
     },
     "metadata": {},
     "output_type": "display_data"
    },
    {
     "data": {
      "text/markdown": [
       "Cluster_20: <span style=\"color:#b408a3\">'He':</span>"
      ],
      "text/plain": [
       "<IPython.core.display.Markdown object>"
      ]
     },
     "metadata": {},
     "output_type": "display_data"
    },
    {
     "data": {
      "text/markdown": [
       "Cluster_21: <span style=\"color:#b51314\">'American officials':</span>"
      ],
      "text/plain": [
       "<IPython.core.display.Markdown object>"
      ]
     },
     "metadata": {},
     "output_type": "display_data"
    },
    {
     "data": {
      "text/markdown": [
       "Cluster_22: <span style=\"color:#b61d85\">'Administration':</span>"
      ],
      "text/plain": [
       "<IPython.core.display.Markdown object>"
      ]
     },
     "metadata": {},
     "output_type": "display_data"
    },
    {
     "data": {
      "text/markdown": [
       "Cluster_11: <span style=\"color:#b727f6\">'Al Gore':</span>"
      ],
      "text/plain": [
       "<IPython.core.display.Markdown object>"
      ]
     },
     "metadata": {},
     "output_type": "display_data"
    },
    {
     "data": {
      "text/markdown": [
       "Cluster_23: <span style=\"color:#b83267\">'Robin Cook,':</span>"
      ],
      "text/plain": [
       "<IPython.core.display.Markdown object>"
      ]
     },
     "metadata": {},
     "output_type": "display_data"
    },
    {
     "data": {
      "text/markdown": [
       "Cluster_24: <span style=\"color:#b93cd8\">'John Muir':</span>"
      ],
      "text/plain": [
       "<IPython.core.display.Markdown object>"
      ]
     },
     "metadata": {},
     "output_type": "display_data"
    },
    {
     "data": {
      "text/markdown": [
       "Cluster_1: <span style=\"color:#ba4749\">'I':</span>"
      ],
      "text/plain": [
       "<IPython.core.display.Markdown object>"
      ]
     },
     "metadata": {},
     "output_type": "display_data"
    },
    {
     "data": {
      "text/markdown": [
       "Cluster_25: <span style=\"color:#bb51ba\">'Gore':</span>"
      ],
      "text/plain": [
       "<IPython.core.display.Markdown object>"
      ]
     },
     "metadata": {},
     "output_type": "display_data"
    },
    {
     "data": {
      "text/markdown": [
       "Cluster_26: <span style=\"color:#bc5c2b\">'''The industry giants':</span>"
      ],
      "text/plain": [
       "<IPython.core.display.Markdown object>"
      ]
     },
     "metadata": {},
     "output_type": "display_data"
    },
    {
     "data": {
      "text/markdown": [
       "Cluster_27: <span style=\"color:#bd669c\">'Gail McDonald,':</span>"
      ],
      "text/plain": [
       "<IPython.core.display.Markdown object>"
      ]
     },
     "metadata": {},
     "output_type": "display_data"
    },
    {
     "data": {
      "text/markdown": [
       "Cluster_28: <span style=\"color:#be710d\">'Federico Pena':</span>"
      ],
      "text/plain": [
       "<IPython.core.display.Markdown object>"
      ]
     },
     "metadata": {},
     "output_type": "display_data"
    },
    {
     "data": {
      "text/markdown": [
       "Cluster_29: <span style=\"color:#bf7b7e\">'Michael Oppenheimer':</span>"
      ],
      "text/plain": [
       "<IPython.core.display.Markdown object>"
      ]
     },
     "metadata": {},
     "output_type": "display_data"
    },
    {
     "data": {
      "text/markdown": [
       "Cluster_30: <span style=\"color:#c085ef\">'scientists':</span>"
      ],
      "text/plain": [
       "<IPython.core.display.Markdown object>"
      ]
     },
     "metadata": {},
     "output_type": "display_data"
    },
    {
     "data": {
      "text/markdown": [
       "Cluster_31: <span style=\"color:#c19060\">'environmentalists':</span>"
      ],
      "text/plain": [
       "<IPython.core.display.Markdown object>"
      ]
     },
     "metadata": {},
     "output_type": "display_data"
    },
    {
     "data": {
      "text/markdown": [
       "Cluster_32: <span style=\"color:#c29ad1\">'Fred Krupp':</span>"
      ],
      "text/plain": [
       "<IPython.core.display.Markdown object>"
      ]
     },
     "metadata": {},
     "output_type": "display_data"
    },
    {
     "data": {
      "text/markdown": [
       "Cluster_33: <span style=\"color:#c3a542\">'Richard Mott':</span>"
      ],
      "text/plain": [
       "<IPython.core.display.Markdown object>"
      ]
     },
     "metadata": {},
     "output_type": "display_data"
    },
    {
     "data": {
      "text/markdown": [
       "Cluster_34: <span style=\"color:#c4afb3\">'Bill Richardson':</span>"
      ],
      "text/plain": [
       "<IPython.core.display.Markdown object>"
      ]
     },
     "metadata": {},
     "output_type": "display_data"
    },
    {
     "data": {
      "text/markdown": [
       "Cluster_35: <span style=\"color:#c5ba24\">'Clinton':</span>"
      ],
      "text/plain": [
       "<IPython.core.display.Markdown object>"
      ]
     },
     "metadata": {},
     "output_type": "display_data"
    },
    {
     "data": {
      "text/markdown": [
       "Cluster_36: <span style=\"color:#c6c495\">'Razali Ismail,':</span>"
      ],
      "text/plain": [
       "<IPython.core.display.Markdown object>"
      ]
     },
     "metadata": {},
     "output_type": "display_data"
    },
    {
     "data": {
      "text/markdown": [
       "Cluster_37: <span style=\"color:#c7cf06\">'Barbara J. Bramble':</span>"
      ],
      "text/plain": [
       "<IPython.core.display.Markdown object>"
      ]
     },
     "metadata": {},
     "output_type": "display_data"
    },
    {
     "data": {
      "text/markdown": [
       "Cluster_38: <span style=\"color:#c8d977\">'Congress':</span>"
      ],
      "text/plain": [
       "<IPython.core.display.Markdown object>"
      ]
     },
     "metadata": {},
     "output_type": "display_data"
    },
    {
     "data": {
      "text/markdown": [
       "Cluster_39: <span style=\"color:#c9e3e8\">'auto industry's':</span>"
      ],
      "text/plain": [
       "<IPython.core.display.Markdown object>"
      ]
     },
     "metadata": {},
     "output_type": "display_data"
    },
    {
     "data": {
      "text/markdown": [
       "Cluster_40: <span style=\"color:#caee59\">'Andrew H. Card Jr.':</span>"
      ],
      "text/plain": [
       "<IPython.core.display.Markdown object>"
      ]
     },
     "metadata": {},
     "output_type": "display_data"
    },
    {
     "data": {
      "text/markdown": [
       "Cluster_10: <span style=\"color:#cbf8ca\">'Robert Hahn':</span>"
      ],
      "text/plain": [
       "<IPython.core.display.Markdown object>"
      ]
     },
     "metadata": {},
     "output_type": "display_data"
    },
    {
     "data": {
      "text/markdown": [
       "Cluster_41: <span style=\"color:#cd033b\">'Ford':</span>"
      ],
      "text/plain": [
       "<IPython.core.display.Markdown object>"
      ]
     },
     "metadata": {},
     "output_type": "display_data"
    },
    {
     "data": {
      "text/markdown": [
       "<span style=\"color:#000000\">2. CLAIM NODES </span>"
      ],
      "text/plain": [
       "<IPython.core.display.Markdown object>"
      ]
     },
     "metadata": {},
     "output_type": "display_data"
    },
    {
     "data": {
      "text/markdown": [
       "Cluster_C2: <span style=\"color:#194b00\">'s-percent-greenhouse-nations-gases-reduce:</span>"
      ],
      "text/plain": [
       "<IPython.core.display.Markdown object>"
      ]
     },
     "metadata": {},
     "output_type": "display_data"
    },
    {
     "data": {
      "text/markdown": [
       "Cluster_C1: <span style=\"color:#22055\">climate-change-climate-human-scientific-''the:</span>"
      ],
      "text/plain": [
       "<IPython.core.display.Markdown object>"
      ]
     },
     "metadata": {},
     "output_type": "display_data"
    },
    {
     "data": {
      "text/markdown": [
       "Cluster_C4: <span style=\"color:#512402\">country-developing-developing-controlling-industrial-treaty:</span>"
      ],
      "text/plain": [
       "<IPython.core.display.Markdown object>"
      ]
     },
     "metadata": {},
     "output_type": "display_data"
    },
    {
     "data": {
      "text/markdown": [
       "Cluster_C0: <span style=\"color:#490357\">greenhouse-american-reduce-energy-administration-binding:</span>"
      ],
      "text/plain": [
       "<IPython.core.display.Markdown object>"
      ]
     },
     "metadata": {},
     "output_type": "display_data"
    },
    {
     "data": {
      "text/markdown": [
       "Cluster_C3: <span style=\"color:#410200\">warming-global-global-threat-gases-dioxide:</span>"
      ],
      "text/plain": [
       "<IPython.core.display.Markdown object>"
      ]
     },
     "metadata": {},
     "output_type": "display_data"
    },
    {
     "data": {
      "text/html": [
       "<div id=\"graph-1cb67ce8-6a5e-4718-b1db-70b6a7e640d2\"></div>\n",
       "           <script type=\"text/javascript\">\n",
       "           require.config({baseUrl: '/',\n",
       "                             paths: {jgraph: ['nbextensions/jgraph.min', 'https://rawgit.com/patrickfuller/jgraph/master/js/build/jgraph.min']}});\n",
       "           require(['jgraph'], function () {\n",
       "               var $d = $('#graph-1cb67ce8-6a5e-4718-b1db-70b6a7e640d2');\n",
       "               $d.width(600); $d.height(400);\n",
       "               $d.jgraph = jQuery.extend({}, jgraph);\n",
       "               $d.jgraph.create($d, {nodeSize: 2.000000,\n",
       "                                     edgeSize: 0.250000,\n",
       "                                     defaultNodeColor: '0x5bc0de',\n",
       "                                     defaultEdgeColor: '0xaaaaaa',\n",
       "                                     shader: 'basic',\n",
       "                                     z: 100,\n",
       "                                     runOptimization: true,\n",
       "                                     directed: true,\n",
       "                                     showSave: false});\n",
       "               $d.jgraph.draw({\n",
       "    \"edges\": [\n",
       "        { \"color\": \"0xffaf03\", \"size\": 1, \"source\": \"12\", \"target\": \"C2\" },\n",
       "        { \"color\": \"0xffaf03\", \"size\": 1, \"source\": \"13\", \"target\": \"C1\" },\n",
       "        { \"color\": \"0xffaf03\", \"size\": 1, \"source\": \"6\", \"target\": \"C4\" },\n",
       "        { \"color\": \"0xffaf03\", \"size\": 1, \"source\": \"6\", \"target\": \"C0\" },\n",
       "        { \"color\": \"0xffaf03\", \"size\": 1, \"source\": \"6\", \"target\": \"C2\" },\n",
       "        { \"color\": \"0xffaf03\", \"size\": 1, \"source\": \"6\", \"target\": \"C0\" },\n",
       "        { \"color\": \"0xffaf03\", \"size\": 1, \"source\": \"14\", \"target\": \"C0\" },\n",
       "        { \"color\": \"0xffaf03\", \"size\": 1, \"source\": \"6\", \"target\": \"C0\" },\n",
       "        { \"color\": \"0xffaf03\", \"size\": 1, \"source\": \"6\", \"target\": \"C0\" },\n",
       "        { \"color\": \"0xffaf03\", \"size\": 1, \"source\": \"15\", \"target\": \"C0\" },\n",
       "        { \"color\": \"0xffaf03\", \"size\": 1, \"source\": \"6\", \"target\": \"C4\" },\n",
       "        { \"color\": \"0xffaf03\", \"size\": 1, \"source\": \"6\", \"target\": \"C3\" },\n",
       "        { \"color\": \"0xaaaaaa\", \"size\": 1, \"source\": \"16\", \"target\": \"C3\" },\n",
       "        { \"color\": \"0xffaf03\", \"size\": 1, \"source\": \"6\", \"target\": \"C4\" },\n",
       "        { \"color\": \"0xffaf03\", \"size\": 1, \"source\": \"17\", \"target\": \"C0\" },\n",
       "        { \"color\": \"0xaaaaaa\", \"size\": 1, \"source\": \"6\", \"target\": \"C0\" },\n",
       "        { \"color\": \"0xffaf03\", \"size\": 1, \"source\": \"6\", \"target\": \"C4\" },\n",
       "        { \"color\": \"0xffaf03\", \"size\": 1, \"source\": \"18\", \"target\": \"C4\" },\n",
       "        { \"color\": \"0xffaf03\", \"size\": 1, \"source\": \"19\", \"target\": \"C0\" },\n",
       "        { \"color\": \"0xaaaaaa\", \"size\": 1, \"source\": \"20\", \"target\": \"C0\" },\n",
       "        { \"color\": \"0xaaaaaa\", \"size\": 1, \"source\": \"21\", \"target\": \"C2\" },\n",
       "        { \"color\": \"0xffaf03\", \"size\": 1, \"source\": \"6\", \"target\": \"C2\" },\n",
       "        { \"color\": \"0xaaaaaa\", \"size\": 1, \"source\": \"6\", \"target\": \"C0\" },\n",
       "        { \"color\": \"0xffaf03\", \"size\": 1, \"source\": \"6\", \"target\": \"C0\" },\n",
       "        { \"color\": \"0xffaf03\", \"size\": 1, \"source\": \"19\", \"target\": \"C3\" },\n",
       "        { \"color\": \"0xffaf03\", \"size\": 1, \"source\": \"6\", \"target\": \"C0\" },\n",
       "        { \"color\": \"0xffaf03\", \"size\": 1, \"source\": \"6\", \"target\": \"C3\" },\n",
       "        { \"color\": \"0xffaf03\", \"size\": 1, \"source\": \"6\", \"target\": \"C2\" },\n",
       "        { \"color\": \"0xffaf03\", \"size\": 1, \"source\": \"6\", \"target\": \"C0\" },\n",
       "        { \"color\": \"0xffaf03\", \"size\": 1, \"source\": \"22\", \"target\": \"C0\" },\n",
       "        { \"color\": \"0xffaf03\", \"size\": 1, \"source\": \"17\", \"target\": \"C0\" },\n",
       "        { \"color\": \"0xffaf03\", \"size\": 1, \"source\": \"11\", \"target\": \"C3\" },\n",
       "        { \"color\": \"0xffaf03\", \"size\": 1, \"source\": \"20\", \"target\": \"C0\" },\n",
       "        { \"color\": \"0xffaf03\", \"size\": 1, \"source\": \"6\", \"target\": \"C0\" },\n",
       "        { \"color\": \"0xffaf03\", \"size\": 1, \"source\": \"23\", \"target\": \"C0\" },\n",
       "        { \"color\": \"0xffaf03\", \"size\": 1, \"source\": \"16\", \"target\": \"C2\" },\n",
       "        { \"color\": \"0xffaf03\", \"size\": 1, \"source\": \"24\", \"target\": \"C0\" },\n",
       "        { \"color\": \"0xffaf03\", \"size\": 1, \"source\": \"24\", \"target\": \"C0\" },\n",
       "        { \"color\": \"0xffaf03\", \"size\": 1, \"source\": \"1\", \"target\": \"C0\" },\n",
       "        { \"color\": \"0xffaf03\", \"size\": 1, \"source\": \"25\", \"target\": \"C0\" },\n",
       "        { \"color\": \"0xffaf03\", \"size\": 1, \"source\": \"1\", \"target\": \"C1\" },\n",
       "        { \"color\": \"0xffaf03\", \"size\": 1, \"source\": \"6\", \"target\": \"C4\" },\n",
       "        { \"color\": \"0xffaf03\", \"size\": 1, \"source\": \"26\", \"target\": \"C3\" },\n",
       "        { \"color\": \"0xffaf03\", \"size\": 1, \"source\": \"27\", \"target\": \"C0\" },\n",
       "        { \"color\": \"0xffaf03\", \"size\": 1, \"source\": \"28\", \"target\": \"C4\" },\n",
       "        { \"color\": \"0xffaf03\", \"size\": 1, \"source\": \"29\", \"target\": \"C0\" },\n",
       "        { \"color\": \"0xffaf03\", \"size\": 1, \"source\": \"6\", \"target\": \"C0\" },\n",
       "        { \"color\": \"0xffaf03\", \"size\": 1, \"source\": \"6\", \"target\": \"C0\" },\n",
       "        { \"color\": \"0xffaf03\", \"size\": 1, \"source\": \"6\", \"target\": \"C0\" },\n",
       "        { \"color\": \"0xffaf03\", \"size\": 1, \"source\": \"6\", \"target\": \"C0\" },\n",
       "        { \"color\": \"0xffaf03\", \"size\": 1, \"source\": \"16\", \"target\": \"C3\" },\n",
       "        { \"color\": \"0xffaf03\", \"size\": 1, \"source\": \"6\", \"target\": \"C0\" },\n",
       "        { \"color\": \"0xffaf03\", \"size\": 1, \"source\": \"6\", \"target\": \"C0\" },\n",
       "        { \"color\": \"0xffaf03\", \"size\": 1, \"source\": \"30\", \"target\": \"C1\" },\n",
       "        { \"color\": \"0xffaf03\", \"size\": 1, \"source\": \"6\", \"target\": \"C2\" },\n",
       "        { \"color\": \"0xaaaaaa\", \"size\": 1, \"source\": \"6\", \"target\": \"C0\" },\n",
       "        { \"color\": \"0xffaf03\", \"size\": 1, \"source\": \"20\", \"target\": \"C0\" },\n",
       "        { \"color\": \"0xffaf03\", \"size\": 1, \"source\": \"31\", \"target\": \"C0\" },\n",
       "        { \"color\": \"0xffaf03\", \"size\": 1, \"source\": \"32\", \"target\": \"C1\" },\n",
       "        { \"color\": \"0xffaf03\", \"size\": 1, \"source\": \"33\", \"target\": \"C1\" },\n",
       "        { \"color\": \"0xffaf03\", \"size\": 1, \"source\": \"20\", \"target\": \"C0\" },\n",
       "        { \"color\": \"0xffaf03\", \"size\": 1, \"source\": \"6\", \"target\": \"C4\" },\n",
       "        { \"color\": \"0xffaf03\", \"size\": 1, \"source\": \"34\", \"target\": \"C2\" },\n",
       "        { \"color\": \"0xffaf03\", \"size\": 1, \"source\": \"6\", \"target\": \"C0\" },\n",
       "        { \"color\": \"0xffaf03\", \"size\": 1, \"source\": \"35\", \"target\": \"C0\" },\n",
       "        { \"color\": \"0xffaf03\", \"size\": 1, \"source\": \"20\", \"target\": \"C1\" },\n",
       "        { \"color\": \"0xffaf03\", \"size\": 1, \"source\": \"6\", \"target\": \"C1\" },\n",
       "        { \"color\": \"0xffaf03\", \"size\": 1, \"source\": \"6\", \"target\": \"C3\" },\n",
       "        { \"color\": \"0xaaaaaa\", \"size\": 1, \"source\": \"16\", \"target\": \"C0\" },\n",
       "        { \"color\": \"0xaaaaaa\", \"size\": 1, \"source\": \"36\", \"target\": \"C0\" },\n",
       "        { \"color\": \"0xaaaaaa\", \"size\": 1, \"source\": \"6\", \"target\": \"C0\" },\n",
       "        { \"color\": \"0xffaf03\", \"size\": 1, \"source\": \"37\", \"target\": \"C0\" },\n",
       "        { \"color\": \"0xaaaaaa\", \"size\": 1, \"source\": \"16\", \"target\": \"C1\" },\n",
       "        { \"color\": \"0xffaf03\", \"size\": 1, \"source\": \"6\", \"target\": \"C0\" },\n",
       "        { \"color\": \"0xffaf03\", \"size\": 1, \"source\": \"20\", \"target\": \"C0\" },\n",
       "        { \"color\": \"0xaaaaaa\", \"size\": 1, \"source\": \"38\", \"target\": \"C0\" },\n",
       "        { \"color\": \"0xffaf03\", \"size\": 1, \"source\": \"39\", \"target\": \"C0\" },\n",
       "        { \"color\": \"0xffaf03\", \"size\": 1, \"source\": \"16\", \"target\": \"C0\" },\n",
       "        { \"color\": \"0xffaf03\", \"size\": 1, \"source\": \"39\", \"target\": \"C0\" },\n",
       "        { \"color\": \"0xffaf03\", \"size\": 1, \"source\": \"40\", \"target\": \"C3\" },\n",
       "        { \"color\": \"0xaaaaaa\", \"size\": 1, \"source\": \"10\", \"target\": \"C3\" },\n",
       "        { \"color\": \"0xffaf03\", \"size\": 1, \"source\": \"35\", \"target\": \"C0\" },\n",
       "        { \"color\": \"0xffaf03\", \"size\": 1, \"source\": \"41\", \"target\": \"C0\" },\n",
       "        { \"color\": \"0xffaf03\", \"size\": 1, \"source\": \"16\", \"target\": \"C2\" }\n",
       "    ],\n",
       "    \"nodes\": {\n",
       "        \"1\": { \"color\": \"0xba4749\", \"size\": 0.5588235294117647 },\n",
       "        \"10\": { \"color\": \"0xcbf8ca\", \"size\": 0.5294117647058824 },\n",
       "        \"11\": { \"color\": \"0xb727f6\", \"size\": 0.5294117647058824 },\n",
       "        \"12\": { \"color\": \"0xaaaaaa\", \"size\": 0.5294117647058824 },\n",
       "        \"13\": { \"color\": \"0xabb51b\", \"size\": 0.5294117647058824 },\n",
       "        \"14\": { \"color\": \"0xadc9fd\", \"size\": 0.5294117647058824 },\n",
       "        \"15\": { \"color\": \"0xaed46e\", \"size\": 0.5294117647058824 },\n",
       "        \"16\": { \"color\": \"0xafdedf\", \"size\": 0.7058823529411764 },\n",
       "        \"17\": { \"color\": \"0xb0e950\", \"size\": 0.5588235294117647 },\n",
       "        \"18\": { \"color\": \"0xb1f3c1\", \"size\": 0.5294117647058824 },\n",
       "        \"19\": { \"color\": \"0xb2fe32\", \"size\": 0.5588235294117647 },\n",
       "        \"20\": { \"color\": \"0xb408a3\", \"size\": 0.6764705882352942 },\n",
       "        \"21\": { \"color\": \"0xb51314\", \"size\": 0.5294117647058824 },\n",
       "        \"22\": { \"color\": \"0xb61d85\", \"size\": 0.5294117647058824 },\n",
       "        \"23\": { \"color\": \"0xb83267\", \"size\": 0.5294117647058824 },\n",
       "        \"24\": { \"color\": \"0xb93cd8\", \"size\": 0.5588235294117647 },\n",
       "        \"25\": { \"color\": \"0xbb51ba\", \"size\": 0.5294117647058824 },\n",
       "        \"26\": { \"color\": \"0xbc5c2b\", \"size\": 0.5294117647058824 },\n",
       "        \"27\": { \"color\": \"0xbd669c\", \"size\": 0.5294117647058824 },\n",
       "        \"28\": { \"color\": \"0xbe710d\", \"size\": 0.5294117647058824 },\n",
       "        \"29\": { \"color\": \"0xbf7b7e\", \"size\": 0.5294117647058824 },\n",
       "        \"30\": { \"color\": \"0xc085ef\", \"size\": 0.5294117647058824 },\n",
       "        \"31\": { \"color\": \"0xc19060\", \"size\": 0.5294117647058824 },\n",
       "        \"32\": { \"color\": \"0xc29ad1\", \"size\": 0.5294117647058824 },\n",
       "        \"33\": { \"color\": \"0xc3a542\", \"size\": 0.5294117647058824 },\n",
       "        \"34\": { \"color\": \"0xc4afb3\", \"size\": 0.5294117647058824 },\n",
       "        \"35\": { \"color\": \"0xc5ba24\", \"size\": 0.5588235294117647 },\n",
       "        \"36\": { \"color\": \"0xc6c495\", \"size\": 0.5294117647058824 },\n",
       "        \"37\": { \"color\": \"0xc7cf06\", \"size\": 0.5294117647058824 },\n",
       "        \"38\": { \"color\": \"0xc8d977\", \"size\": 0.5294117647058824 },\n",
       "        \"39\": { \"color\": \"0xc9e3e8\", \"size\": 0.5588235294117647 },\n",
       "        \"40\": { \"color\": \"0xcaee59\", \"size\": 0.5294117647058824 },\n",
       "        \"41\": { \"color\": \"0xcd033b\", \"size\": 0.5294117647058824 },\n",
       "        \"6\": { \"color\": \"0xacbf8c\", \"size\": 1.5 },\n",
       "        \"C0\": { \"color\": \"0x490357\", \"size\": 3.4999999999999996 },\n",
       "        \"C1\": { \"color\": \"0x22055\", \"size\": 1.4081632653061225 },\n",
       "        \"C2\": { \"color\": \"0x194b00\", \"size\": 1.4591836734693877 },\n",
       "        \"C3\": { \"color\": \"0x410200\", \"size\": 1.510204081632653 },\n",
       "        \"C4\": { \"color\": \"0x512402\", \"size\": 1.4081632653061225 }\n",
       "    }\n",
       "});\n",
       "\n",
       "               $d.resizable({\n",
       "                   aspectRatio: 600 / 400,\n",
       "                   resize: function (evt, ui) {\n",
       "                       $d.jgraph.renderer.setSize(ui.size.width,\n",
       "                                                  ui.size.height);\n",
       "                   }\n",
       "               });\n",
       "           });\n",
       "           </script>"
      ],
      "text/plain": [
       "<IPython.core.display.HTML object>"
      ]
     },
     "metadata": {},
     "output_type": "display_data"
    },
    {
     "data": {
      "text/markdown": [
       "<span style=\"color:#000000\">1997/07</span>"
      ],
      "text/plain": [
       "<IPython.core.display.Markdown object>"
      ]
     },
     "metadata": {},
     "output_type": "display_data"
    },
    {
     "data": {
      "text/markdown": [
       "<span style=\"color:#000000\">INDEX:</span>"
      ],
      "text/plain": [
       "<IPython.core.display.Markdown object>"
      ]
     },
     "metadata": {},
     "output_type": "display_data"
    },
    {
     "data": {
      "text/markdown": [
       "<span style=\"color:#000000\">1. ACTOR NODES </span>"
      ],
      "text/plain": [
       "<IPython.core.display.Markdown object>"
      ]
     },
     "metadata": {},
     "output_type": "display_data"
    },
    {
     "data": {
      "text/markdown": [
       "Cluster_6: <span style=\"color:#aaaaaa\">'the journal Nature':</span>"
      ],
      "text/plain": [
       "<IPython.core.display.Markdown object>"
      ]
     },
     "metadata": {},
     "output_type": "display_data"
    },
    {
     "data": {
      "text/markdown": [
       "Cluster_42: <span style=\"color:#abb51b\">'Critics':</span>"
      ],
      "text/plain": [
       "<IPython.core.display.Markdown object>"
      ]
     },
     "metadata": {},
     "output_type": "display_data"
    },
    {
     "data": {
      "text/markdown": [
       "Cluster_37: <span style=\"color:#acbf8c\">'Barbara J. Bramble':</span>"
      ],
      "text/plain": [
       "<IPython.core.display.Markdown object>"
      ]
     },
     "metadata": {},
     "output_type": "display_data"
    },
    {
     "data": {
      "text/markdown": [
       "Cluster_21: <span style=\"color:#adc9fd\">'American officials':</span>"
      ],
      "text/plain": [
       "<IPython.core.display.Markdown object>"
      ]
     },
     "metadata": {},
     "output_type": "display_data"
    },
    {
     "data": {
      "text/markdown": [
       "Cluster_10: <span style=\"color:#aed46e\">'Robert Hahn':</span>"
      ],
      "text/plain": [
       "<IPython.core.display.Markdown object>"
      ]
     },
     "metadata": {},
     "output_type": "display_data"
    },
    {
     "data": {
      "text/markdown": [
       "Cluster_40: <span style=\"color:#afdedf\">'Andrew H. Card Jr.':</span>"
      ],
      "text/plain": [
       "<IPython.core.display.Markdown object>"
      ]
     },
     "metadata": {},
     "output_type": "display_data"
    },
    {
     "data": {
      "text/markdown": [
       "Cluster_43: <span style=\"color:#b0e950\">'Tim Wirth':</span>"
      ],
      "text/plain": [
       "<IPython.core.display.Markdown object>"
      ]
     },
     "metadata": {},
     "output_type": "display_data"
    },
    {
     "data": {
      "text/markdown": [
       "Cluster_44: <span style=\"color:#b1f3c1\">'Byrd':</span>"
      ],
      "text/plain": [
       "<IPython.core.display.Markdown object>"
      ]
     },
     "metadata": {},
     "output_type": "display_data"
    },
    {
     "data": {
      "text/markdown": [
       "Cluster_45: <span style=\"color:#b2fe32\">'scripted discussion':</span>"
      ],
      "text/plain": [
       "<IPython.core.display.Markdown object>"
      ]
     },
     "metadata": {},
     "output_type": "display_data"
    },
    {
     "data": {
      "text/markdown": [
       "<span style=\"color:#000000\">2. CLAIM NODES </span>"
      ],
      "text/plain": [
       "<IPython.core.display.Markdown object>"
      ]
     },
     "metadata": {},
     "output_type": "display_data"
    },
    {
     "data": {
      "text/markdown": [
       "Cluster_C0: <span style=\"color:#490357\">greenhouse-american-reduce-energy-administration-binding:</span>"
      ],
      "text/plain": [
       "<IPython.core.display.Markdown object>"
      ]
     },
     "metadata": {},
     "output_type": "display_data"
    },
    {
     "data": {
      "text/markdown": [
       "Cluster_C3: <span style=\"color:#410200\">warming-global-global-threat-gases-dioxide:</span>"
      ],
      "text/plain": [
       "<IPython.core.display.Markdown object>"
      ]
     },
     "metadata": {},
     "output_type": "display_data"
    },
    {
     "data": {
      "text/markdown": [
       "Cluster_C2: <span style=\"color:#194b00\">'s-percent-greenhouse-nations-gases-reduce:</span>"
      ],
      "text/plain": [
       "<IPython.core.display.Markdown object>"
      ]
     },
     "metadata": {},
     "output_type": "display_data"
    },
    {
     "data": {
      "text/markdown": [
       "Cluster_C1: <span style=\"color:#22055\">climate-change-climate-human-scientific-''the:</span>"
      ],
      "text/plain": [
       "<IPython.core.display.Markdown object>"
      ]
     },
     "metadata": {},
     "output_type": "display_data"
    },
    {
     "data": {
      "text/markdown": [
       "Cluster_C4: <span style=\"color:#512402\">country-developing-developing-controlling-industrial-treaty:</span>"
      ],
      "text/plain": [
       "<IPython.core.display.Markdown object>"
      ]
     },
     "metadata": {},
     "output_type": "display_data"
    },
    {
     "data": {
      "text/html": [
       "<div id=\"graph-5951f1fb-6e76-4f5f-9c6c-4c0976e1ce46\"></div>\n",
       "           <script type=\"text/javascript\">\n",
       "           require.config({baseUrl: '/',\n",
       "                             paths: {jgraph: ['nbextensions/jgraph.min', 'https://rawgit.com/patrickfuller/jgraph/master/js/build/jgraph.min']}});\n",
       "           require(['jgraph'], function () {\n",
       "               var $d = $('#graph-5951f1fb-6e76-4f5f-9c6c-4c0976e1ce46');\n",
       "               $d.width(600); $d.height(400);\n",
       "               $d.jgraph = jQuery.extend({}, jgraph);\n",
       "               $d.jgraph.create($d, {nodeSize: 2.000000,\n",
       "                                     edgeSize: 0.250000,\n",
       "                                     defaultNodeColor: '0x5bc0de',\n",
       "                                     defaultEdgeColor: '0xaaaaaa',\n",
       "                                     shader: 'basic',\n",
       "                                     z: 100,\n",
       "                                     runOptimization: true,\n",
       "                                     directed: true,\n",
       "                                     showSave: false});\n",
       "               $d.jgraph.draw({\n",
       "    \"edges\": [\n",
       "        { \"color\": \"0xffaf03\", \"size\": 1, \"source\": \"6\", \"target\": \"C0\" },\n",
       "        { \"color\": \"0xffaf03\", \"size\": 1, \"source\": \"6\", \"target\": \"C3\" },\n",
       "        { \"color\": \"0xffaf03\", \"size\": 1, \"source\": \"6\", \"target\": \"C0\" },\n",
       "        { \"color\": \"0xffaf03\", \"size\": 1, \"source\": \"42\", \"target\": \"C0\" },\n",
       "        { \"color\": \"0xffaf03\", \"size\": 1, \"source\": \"6\", \"target\": \"C2\" },\n",
       "        { \"color\": \"0xffaf03\", \"size\": 1, \"source\": \"37\", \"target\": \"C1\" },\n",
       "        { \"color\": \"0xffaf03\", \"size\": 1, \"source\": \"6\", \"target\": \"C0\" },\n",
       "        { \"color\": \"0xffaf03\", \"size\": 1, \"source\": \"6\", \"target\": \"C0\" },\n",
       "        { \"color\": \"0xffaf03\", \"size\": 1, \"source\": \"21\", \"target\": \"C0\" },\n",
       "        { \"color\": \"0xaaaaaa\", \"size\": 1, \"source\": \"6\", \"target\": \"C0\" },\n",
       "        { \"color\": \"0xffaf03\", \"size\": 1, \"source\": \"6\", \"target\": \"C4\" },\n",
       "        { \"color\": \"0xaaaaaa\", \"size\": 1, \"source\": \"6\", \"target\": \"C4\" },\n",
       "        { \"color\": \"0xaaaaaa\", \"size\": 1, \"source\": \"6\", \"target\": \"C3\" },\n",
       "        { \"color\": \"0xffaf03\", \"size\": 1, \"source\": \"10\", \"target\": \"C4\" },\n",
       "        { \"color\": \"0xaaaaaa\", \"size\": 1, \"source\": \"6\", \"target\": \"C0\" },\n",
       "        { \"color\": \"0xffaf03\", \"size\": 1, \"source\": \"6\", \"target\": \"C0\" },\n",
       "        { \"color\": \"0xffaf03\", \"size\": 1, \"source\": \"40\", \"target\": \"C1\" },\n",
       "        { \"color\": \"0xffaf03\", \"size\": 1, \"source\": \"43\", \"target\": \"C0\" },\n",
       "        { \"color\": \"0xffaf03\", \"size\": 1, \"source\": \"6\", \"target\": \"C4\" },\n",
       "        { \"color\": \"0xffaf03\", \"size\": 1, \"source\": \"44\", \"target\": \"C0\" },\n",
       "        { \"color\": \"0xffaf03\", \"size\": 1, \"source\": \"45\", \"target\": \"C0\" },\n",
       "        { \"color\": \"0xffaf03\", \"size\": 1, \"source\": \"6\", \"target\": \"C3\" },\n",
       "        { \"color\": \"0xffaf03\", \"size\": 1, \"source\": \"6\", \"target\": \"C0\" }\n",
       "    ],\n",
       "    \"nodes\": {\n",
       "        \"10\": { \"color\": \"0xaed46e\", \"size\": 0.5666666666666667 },\n",
       "        \"21\": { \"color\": \"0xadc9fd\", \"size\": 0.5666666666666667 },\n",
       "        \"37\": { \"color\": \"0xacbf8c\", \"size\": 0.5666666666666667 },\n",
       "        \"40\": { \"color\": \"0xafdedf\", \"size\": 0.5666666666666667 },\n",
       "        \"42\": { \"color\": \"0xabb51b\", \"size\": 0.5666666666666667 },\n",
       "        \"43\": { \"color\": \"0xb0e950\", \"size\": 0.5666666666666667 },\n",
       "        \"44\": { \"color\": \"0xb1f3c1\", \"size\": 0.5666666666666667 },\n",
       "        \"45\": { \"color\": \"0xb2fe32\", \"size\": 0.5666666666666667 },\n",
       "        \"6\": { \"color\": \"0xaaaaaa\", \"size\": 1.5 },\n",
       "        \"C0\": { \"color\": \"0x490357\", \"size\": 3.5 },\n",
       "        \"C1\": { \"color\": \"0x22055\", \"size\": 1.3846153846153846 },\n",
       "        \"C2\": { \"color\": \"0x194b00\", \"size\": 1.1923076923076923 },\n",
       "        \"C3\": { \"color\": \"0x410200\", \"size\": 1.576923076923077 },\n",
       "        \"C4\": { \"color\": \"0x512402\", \"size\": 1.7692307692307692 }\n",
       "    }\n",
       "});\n",
       "\n",
       "               $d.resizable({\n",
       "                   aspectRatio: 600 / 400,\n",
       "                   resize: function (evt, ui) {\n",
       "                       $d.jgraph.renderer.setSize(ui.size.width,\n",
       "                                                  ui.size.height);\n",
       "                   }\n",
       "               });\n",
       "           });\n",
       "           </script>"
      ],
      "text/plain": [
       "<IPython.core.display.HTML object>"
      ]
     },
     "metadata": {},
     "output_type": "display_data"
    },
    {
     "data": {
      "text/markdown": [
       "<span style=\"color:#000000\">1997/08</span>"
      ],
      "text/plain": [
       "<IPython.core.display.Markdown object>"
      ]
     },
     "metadata": {},
     "output_type": "display_data"
    },
    {
     "data": {
      "text/markdown": [
       "<span style=\"color:#000000\">INDEX:</span>"
      ],
      "text/plain": [
       "<IPython.core.display.Markdown object>"
      ]
     },
     "metadata": {},
     "output_type": "display_data"
    },
    {
     "data": {
      "text/markdown": [
       "<span style=\"color:#000000\">1. ACTOR NODES </span>"
      ],
      "text/plain": [
       "<IPython.core.display.Markdown object>"
      ]
     },
     "metadata": {},
     "output_type": "display_data"
    },
    {
     "data": {
      "text/markdown": [
       "Cluster_6: <span style=\"color:#aaaaaa\">'the journal Nature':</span>"
      ],
      "text/plain": [
       "<IPython.core.display.Markdown object>"
      ]
     },
     "metadata": {},
     "output_type": "display_data"
    },
    {
     "data": {
      "text/markdown": [
       "Cluster_46: <span style=\"color:#abb51b\">'British Petroleum':</span>"
      ],
      "text/plain": [
       "<IPython.core.display.Markdown object>"
      ]
     },
     "metadata": {},
     "output_type": "display_data"
    },
    {
     "data": {
      "text/markdown": [
       "Cluster_24: <span style=\"color:#acbf8c\">'John Muir':</span>"
      ],
      "text/plain": [
       "<IPython.core.display.Markdown object>"
      ]
     },
     "metadata": {},
     "output_type": "display_data"
    },
    {
     "data": {
      "text/markdown": [
       "Cluster_20: <span style=\"color:#adc9fd\">'He':</span>"
      ],
      "text/plain": [
       "<IPython.core.display.Markdown object>"
      ]
     },
     "metadata": {},
     "output_type": "display_data"
    },
    {
     "data": {
      "text/markdown": [
       "Cluster_47: <span style=\"color:#aed46e\">'Dan Esty':</span>"
      ],
      "text/plain": [
       "<IPython.core.display.Markdown object>"
      ]
     },
     "metadata": {},
     "output_type": "display_data"
    },
    {
     "data": {
      "text/markdown": [
       "Cluster_48: <span style=\"color:#afdedf\">'Connie Holmes':</span>"
      ],
      "text/plain": [
       "<IPython.core.display.Markdown object>"
      ]
     },
     "metadata": {},
     "output_type": "display_data"
    },
    {
     "data": {
      "text/markdown": [
       "Cluster_29: <span style=\"color:#b0e950\">'Michael Oppenheimer':</span>"
      ],
      "text/plain": [
       "<IPython.core.display.Markdown object>"
      ]
     },
     "metadata": {},
     "output_type": "display_data"
    },
    {
     "data": {
      "text/markdown": [
       "Cluster_49: <span style=\"color:#b1f3c1\">'International Climate Change Partnership':</span>"
      ],
      "text/plain": [
       "<IPython.core.display.Markdown object>"
      ]
     },
     "metadata": {},
     "output_type": "display_data"
    },
    {
     "data": {
      "text/markdown": [
       "Cluster_27: <span style=\"color:#b2fe32\">'Gail McDonald,':</span>"
      ],
      "text/plain": [
       "<IPython.core.display.Markdown object>"
      ]
     },
     "metadata": {},
     "output_type": "display_data"
    },
    {
     "data": {
      "text/markdown": [
       "Cluster_8: <span style=\"color:#b408a3\">'William Nordhaus':</span>"
      ],
      "text/plain": [
       "<IPython.core.display.Markdown object>"
      ]
     },
     "metadata": {},
     "output_type": "display_data"
    },
    {
     "data": {
      "text/markdown": [
       "Cluster_1: <span style=\"color:#b51314\">'I':</span>"
      ],
      "text/plain": [
       "<IPython.core.display.Markdown object>"
      ]
     },
     "metadata": {},
     "output_type": "display_data"
    },
    {
     "data": {
      "text/markdown": [
       "Cluster_50: <span style=\"color:#b61d85\">'Raul Estrada-Oyuela':</span>"
      ],
      "text/plain": [
       "<IPython.core.display.Markdown object>"
      ]
     },
     "metadata": {},
     "output_type": "display_data"
    },
    {
     "data": {
      "text/markdown": [
       "Cluster_51: <span style=\"color:#b727f6\">'Bert Metz':</span>"
      ],
      "text/plain": [
       "<IPython.core.display.Markdown object>"
      ]
     },
     "metadata": {},
     "output_type": "display_data"
    },
    {
     "data": {
      "text/markdown": [
       "Cluster_16: <span style=\"color:#b83267\">'President Clinton':</span>"
      ],
      "text/plain": [
       "<IPython.core.display.Markdown object>"
      ]
     },
     "metadata": {},
     "output_type": "display_data"
    },
    {
     "data": {
      "text/markdown": [
       "Cluster_37: <span style=\"color:#b93cd8\">'Barbara J. Bramble':</span>"
      ],
      "text/plain": [
       "<IPython.core.display.Markdown object>"
      ]
     },
     "metadata": {},
     "output_type": "display_data"
    },
    {
     "data": {
      "text/markdown": [
       "<span style=\"color:#000000\">2. CLAIM NODES </span>"
      ],
      "text/plain": [
       "<IPython.core.display.Markdown object>"
      ]
     },
     "metadata": {},
     "output_type": "display_data"
    },
    {
     "data": {
      "text/markdown": [
       "Cluster_C0: <span style=\"color:#490357\">greenhouse-american-reduce-energy-administration-binding:</span>"
      ],
      "text/plain": [
       "<IPython.core.display.Markdown object>"
      ]
     },
     "metadata": {},
     "output_type": "display_data"
    },
    {
     "data": {
      "text/markdown": [
       "Cluster_C1: <span style=\"color:#22055\">climate-change-climate-human-scientific-''the:</span>"
      ],
      "text/plain": [
       "<IPython.core.display.Markdown object>"
      ]
     },
     "metadata": {},
     "output_type": "display_data"
    },
    {
     "data": {
      "text/markdown": [
       "Cluster_C2: <span style=\"color:#194b00\">'s-percent-greenhouse-nations-gases-reduce:</span>"
      ],
      "text/plain": [
       "<IPython.core.display.Markdown object>"
      ]
     },
     "metadata": {},
     "output_type": "display_data"
    },
    {
     "data": {
      "text/markdown": [
       "Cluster_C3: <span style=\"color:#410200\">warming-global-global-threat-gases-dioxide:</span>"
      ],
      "text/plain": [
       "<IPython.core.display.Markdown object>"
      ]
     },
     "metadata": {},
     "output_type": "display_data"
    },
    {
     "data": {
      "text/markdown": [
       "Cluster_C4: <span style=\"color:#512402\">country-developing-developing-controlling-industrial-treaty:</span>"
      ],
      "text/plain": [
       "<IPython.core.display.Markdown object>"
      ]
     },
     "metadata": {},
     "output_type": "display_data"
    },
    {
     "data": {
      "text/html": [
       "<div id=\"graph-69f449e1-caa6-42a5-97b2-5a604e5decdf\"></div>\n",
       "           <script type=\"text/javascript\">\n",
       "           require.config({baseUrl: '/',\n",
       "                             paths: {jgraph: ['nbextensions/jgraph.min', 'https://rawgit.com/patrickfuller/jgraph/master/js/build/jgraph.min']}});\n",
       "           require(['jgraph'], function () {\n",
       "               var $d = $('#graph-69f449e1-caa6-42a5-97b2-5a604e5decdf');\n",
       "               $d.width(600); $d.height(400);\n",
       "               $d.jgraph = jQuery.extend({}, jgraph);\n",
       "               $d.jgraph.create($d, {nodeSize: 2.000000,\n",
       "                                     edgeSize: 0.250000,\n",
       "                                     defaultNodeColor: '0x5bc0de',\n",
       "                                     defaultEdgeColor: '0xaaaaaa',\n",
       "                                     shader: 'basic',\n",
       "                                     z: 100,\n",
       "                                     runOptimization: true,\n",
       "                                     directed: true,\n",
       "                                     showSave: false});\n",
       "               $d.jgraph.draw({\n",
       "    \"edges\": [\n",
       "        { \"color\": \"0xffaf03\", \"size\": 1, \"source\": \"6\", \"target\": \"C0\" },\n",
       "        { \"color\": \"0xffaf03\", \"size\": 1, \"source\": \"46\", \"target\": \"C1\" },\n",
       "        { \"color\": \"0xffaf03\", \"size\": 1, \"source\": \"24\", \"target\": \"C1\" },\n",
       "        { \"color\": \"0xffaf03\", \"size\": 1, \"source\": \"20\", \"target\": \"C0\" },\n",
       "        { \"color\": \"0xffaf03\", \"size\": 1, \"source\": \"6\", \"target\": \"C0\" },\n",
       "        { \"color\": \"0xffaf03\", \"size\": 1, \"source\": \"6\", \"target\": \"C2\" },\n",
       "        { \"color\": \"0xffaf03\", \"size\": 1, \"source\": \"6\", \"target\": \"C0\" },\n",
       "        { \"color\": \"0xffaf03\", \"size\": 1, \"source\": \"47\", \"target\": \"C1\" },\n",
       "        { \"color\": \"0xffaf03\", \"size\": 1, \"source\": \"20\", \"target\": \"C0\" },\n",
       "        { \"color\": \"0xaaaaaa\", \"size\": 1, \"source\": \"48\", \"target\": \"C0\" },\n",
       "        { \"color\": \"0xffaf03\", \"size\": 1, \"source\": \"48\", \"target\": \"C0\" },\n",
       "        { \"color\": \"0xffaf03\", \"size\": 1, \"source\": \"6\", \"target\": \"C1\" },\n",
       "        { \"color\": \"0xffaf03\", \"size\": 1, \"source\": \"29\", \"target\": \"C0\" },\n",
       "        { \"color\": \"0xffaf03\", \"size\": 1, \"source\": \"49\", \"target\": \"C3\" },\n",
       "        { \"color\": \"0xffaf03\", \"size\": 1, \"source\": \"20\", \"target\": \"C0\" },\n",
       "        { \"color\": \"0xffaf03\", \"size\": 1, \"source\": \"6\", \"target\": \"C0\" },\n",
       "        { \"color\": \"0xaaaaaa\", \"size\": 1, \"source\": \"27\", \"target\": \"C0\" },\n",
       "        { \"color\": \"0xffaf03\", \"size\": 1, \"source\": \"8\", \"target\": \"C0\" },\n",
       "        { \"color\": \"0xffaf03\", \"size\": 1, \"source\": \"1\", \"target\": \"C0\" },\n",
       "        { \"color\": \"0xffaf03\", \"size\": 1, \"source\": \"50\", \"target\": \"C0\" },\n",
       "        { \"color\": \"0xffaf03\", \"size\": 1, \"source\": \"51\", \"target\": \"C0\" },\n",
       "        { \"color\": \"0xffaf03\", \"size\": 1, \"source\": \"16\", \"target\": \"C1\" },\n",
       "        { \"color\": \"0xffaf03\", \"size\": 1, \"source\": \"6\", \"target\": \"C0\" },\n",
       "        { \"color\": \"0xffaf03\", \"size\": 1, \"source\": \"6\", \"target\": \"C2\" },\n",
       "        { \"color\": \"0xffaf03\", \"size\": 1, \"source\": \"6\", \"target\": \"C4\" },\n",
       "        { \"color\": \"0xffaf03\", \"size\": 1, \"source\": \"37\", \"target\": \"C0\" }\n",
       "    ],\n",
       "    \"nodes\": {\n",
       "        \"1\": { \"color\": \"0xb51314\", \"size\": 0.6111111111111112 },\n",
       "        \"16\": { \"color\": \"0xb83267\", \"size\": 0.6111111111111112 },\n",
       "        \"20\": { \"color\": \"0xadc9fd\", \"size\": 0.8333333333333333 },\n",
       "        \"24\": { \"color\": \"0xacbf8c\", \"size\": 0.6111111111111112 },\n",
       "        \"27\": { \"color\": \"0xb2fe32\", \"size\": 0.6111111111111112 },\n",
       "        \"29\": { \"color\": \"0xb0e950\", \"size\": 0.6111111111111112 },\n",
       "        \"37\": { \"color\": \"0xb93cd8\", \"size\": 0.6111111111111112 },\n",
       "        \"46\": { \"color\": \"0xabb51b\", \"size\": 0.6111111111111112 },\n",
       "        \"47\": { \"color\": \"0xaed46e\", \"size\": 0.6111111111111112 },\n",
       "        \"48\": { \"color\": \"0xafdedf\", \"size\": 0.7222222222222222 },\n",
       "        \"49\": { \"color\": \"0xb1f3c1\", \"size\": 0.6111111111111112 },\n",
       "        \"50\": { \"color\": \"0xb61d85\", \"size\": 0.6111111111111112 },\n",
       "        \"51\": { \"color\": \"0xb727f6\", \"size\": 0.6111111111111112 },\n",
       "        \"6\": { \"color\": \"0xaaaaaa\", \"size\": 1.5 },\n",
       "        \"8\": { \"color\": \"0xb408a3\", \"size\": 0.6111111111111112 },\n",
       "        \"C0\": { \"color\": \"0x490357\", \"size\": 3.5 },\n",
       "        \"C1\": { \"color\": \"0x22055\", \"size\": 1.7352941176470589 },\n",
       "        \"C2\": { \"color\": \"0x194b00\", \"size\": 1.2941176470588236 },\n",
       "        \"C3\": { \"color\": \"0x410200\", \"size\": 1.1470588235294117 },\n",
       "        \"C4\": { \"color\": \"0x512402\", \"size\": 1.1470588235294117 }\n",
       "    }\n",
       "});\n",
       "\n",
       "               $d.resizable({\n",
       "                   aspectRatio: 600 / 400,\n",
       "                   resize: function (evt, ui) {\n",
       "                       $d.jgraph.renderer.setSize(ui.size.width,\n",
       "                                                  ui.size.height);\n",
       "                   }\n",
       "               });\n",
       "           });\n",
       "           </script>"
      ],
      "text/plain": [
       "<IPython.core.display.HTML object>"
      ]
     },
     "metadata": {},
     "output_type": "display_data"
    },
    {
     "data": {
      "text/markdown": [
       "<span style=\"color:#000000\">1997/09</span>"
      ],
      "text/plain": [
       "<IPython.core.display.Markdown object>"
      ]
     },
     "metadata": {},
     "output_type": "display_data"
    },
    {
     "data": {
      "text/markdown": [
       "<span style=\"color:#000000\">INDEX:</span>"
      ],
      "text/plain": [
       "<IPython.core.display.Markdown object>"
      ]
     },
     "metadata": {},
     "output_type": "display_data"
    },
    {
     "data": {
      "text/markdown": [
       "<span style=\"color:#000000\">1. ACTOR NODES </span>"
      ],
      "text/plain": [
       "<IPython.core.display.Markdown object>"
      ]
     },
     "metadata": {},
     "output_type": "display_data"
    },
    {
     "data": {
      "text/markdown": [
       "Cluster_6: <span style=\"color:#aaaaaa\">'the journal Nature':</span>"
      ],
      "text/plain": [
       "<IPython.core.display.Markdown object>"
      ]
     },
     "metadata": {},
     "output_type": "display_data"
    },
    {
     "data": {
      "text/markdown": [
       "Cluster_18: <span style=\"color:#abb51b\">'Samuel R. Berger,':</span>"
      ],
      "text/plain": [
       "<IPython.core.display.Markdown object>"
      ]
     },
     "metadata": {},
     "output_type": "display_data"
    },
    {
     "data": {
      "text/markdown": [
       "Cluster_52: <span style=\"color:#acbf8c\">'Sallie L. Baliunas':</span>"
      ],
      "text/plain": [
       "<IPython.core.display.Markdown object>"
      ]
     },
     "metadata": {},
     "output_type": "display_data"
    },
    {
     "data": {
      "text/markdown": [
       "Cluster_53: <span style=\"color:#adc9fd\">'Britain and Germany,':</span>"
      ],
      "text/plain": [
       "<IPython.core.display.Markdown object>"
      ]
     },
     "metadata": {},
     "output_type": "display_data"
    },
    {
     "data": {
      "text/markdown": [
       "Cluster_54: <span style=\"color:#aed46e\">'climate experts':</span>"
      ],
      "text/plain": [
       "<IPython.core.display.Markdown object>"
      ]
     },
     "metadata": {},
     "output_type": "display_data"
    },
    {
     "data": {
      "text/markdown": [
       "<span style=\"color:#000000\">2. CLAIM NODES </span>"
      ],
      "text/plain": [
       "<IPython.core.display.Markdown object>"
      ]
     },
     "metadata": {},
     "output_type": "display_data"
    },
    {
     "data": {
      "text/markdown": [
       "Cluster_C0: <span style=\"color:#490357\">greenhouse-american-reduce-energy-administration-binding:</span>"
      ],
      "text/plain": [
       "<IPython.core.display.Markdown object>"
      ]
     },
     "metadata": {},
     "output_type": "display_data"
    },
    {
     "data": {
      "text/markdown": [
       "Cluster_C1: <span style=\"color:#22055\">climate-change-climate-human-scientific-''the:</span>"
      ],
      "text/plain": [
       "<IPython.core.display.Markdown object>"
      ]
     },
     "metadata": {},
     "output_type": "display_data"
    },
    {
     "data": {
      "text/markdown": [
       "Cluster_C3: <span style=\"color:#410200\">warming-global-global-threat-gases-dioxide:</span>"
      ],
      "text/plain": [
       "<IPython.core.display.Markdown object>"
      ]
     },
     "metadata": {},
     "output_type": "display_data"
    },
    {
     "data": {
      "text/markdown": [
       "Cluster_C2: <span style=\"color:#194b00\">'s-percent-greenhouse-nations-gases-reduce:</span>"
      ],
      "text/plain": [
       "<IPython.core.display.Markdown object>"
      ]
     },
     "metadata": {},
     "output_type": "display_data"
    },
    {
     "data": {
      "text/html": [
       "<div id=\"graph-507588d9-672c-4694-aba3-71459a8317a4\"></div>\n",
       "           <script type=\"text/javascript\">\n",
       "           require.config({baseUrl: '/',\n",
       "                             paths: {jgraph: ['nbextensions/jgraph.min', 'https://rawgit.com/patrickfuller/jgraph/master/js/build/jgraph.min']}});\n",
       "           require(['jgraph'], function () {\n",
       "               var $d = $('#graph-507588d9-672c-4694-aba3-71459a8317a4');\n",
       "               $d.width(600); $d.height(400);\n",
       "               $d.jgraph = jQuery.extend({}, jgraph);\n",
       "               $d.jgraph.create($d, {nodeSize: 2.000000,\n",
       "                                     edgeSize: 0.250000,\n",
       "                                     defaultNodeColor: '0x5bc0de',\n",
       "                                     defaultEdgeColor: '0xaaaaaa',\n",
       "                                     shader: 'basic',\n",
       "                                     z: 100,\n",
       "                                     runOptimization: true,\n",
       "                                     directed: true,\n",
       "                                     showSave: false});\n",
       "               $d.jgraph.draw({\n",
       "    \"edges\": [\n",
       "        { \"color\": \"0xffaf03\", \"size\": 1, \"source\": \"6\", \"target\": \"C0\" },\n",
       "        { \"color\": \"0xffaf03\", \"size\": 1, \"source\": \"18\", \"target\": \"C1\" },\n",
       "        { \"color\": \"0xffaf03\", \"size\": 1, \"source\": \"6\", \"target\": \"C0\" },\n",
       "        { \"color\": \"0xffaf03\", \"size\": 1, \"source\": \"6\", \"target\": \"C3\" },\n",
       "        { \"color\": \"0xffaf03\", \"size\": 1, \"source\": \"6\", \"target\": \"C0\" },\n",
       "        { \"color\": \"0xffaf03\", \"size\": 1, \"source\": \"6\", \"target\": \"C1\" },\n",
       "        { \"color\": \"0xffaf03\", \"size\": 1, \"source\": \"6\", \"target\": \"C1\" },\n",
       "        { \"color\": \"0xffaf03\", \"size\": 1, \"source\": \"6\", \"target\": \"C3\" },\n",
       "        { \"color\": \"0xffaf03\", \"size\": 1, \"source\": \"6\", \"target\": \"C0\" },\n",
       "        { \"color\": \"0xffaf03\", \"size\": 1, \"source\": \"6\", \"target\": \"C1\" },\n",
       "        { \"color\": \"0xffaf03\", \"size\": 1, \"source\": \"6\", \"target\": \"C0\" },\n",
       "        { \"color\": \"0xffaf03\", \"size\": 1, \"source\": \"6\", \"target\": \"C0\" },\n",
       "        { \"color\": \"0xffaf03\", \"size\": 1, \"source\": \"6\", \"target\": \"C3\" },\n",
       "        { \"color\": \"0xffaf03\", \"size\": 1, \"source\": \"6\", \"target\": \"C1\" },\n",
       "        { \"color\": \"0xffaf03\", \"size\": 1, \"source\": \"6\", \"target\": \"C3\" },\n",
       "        { \"color\": \"0xffaf03\", \"size\": 1, \"source\": \"6\", \"target\": \"C1\" },\n",
       "        { \"color\": \"0xffaf03\", \"size\": 1, \"source\": \"6\", \"target\": \"C2\" },\n",
       "        { \"color\": \"0xffaf03\", \"size\": 1, \"source\": \"6\", \"target\": \"C1\" },\n",
       "        { \"color\": \"0xffaf03\", \"size\": 1, \"source\": \"6\", \"target\": \"C3\" },\n",
       "        { \"color\": \"0xffaf03\", \"size\": 1, \"source\": \"6\", \"target\": \"C0\" },\n",
       "        { \"color\": \"0xffaf03\", \"size\": 1, \"source\": \"52\", \"target\": \"C0\" },\n",
       "        { \"color\": \"0xffaf03\", \"size\": 1, \"source\": \"6\", \"target\": \"C2\" },\n",
       "        { \"color\": \"0xffaf03\", \"size\": 1, \"source\": \"6\", \"target\": \"C1\" },\n",
       "        { \"color\": \"0xffaf03\", \"size\": 1, \"source\": \"6\", \"target\": \"C2\" },\n",
       "        { \"color\": \"0xffaf03\", \"size\": 1, \"source\": \"6\", \"target\": \"C0\" },\n",
       "        { \"color\": \"0xffaf03\", \"size\": 1, \"source\": \"6\", \"target\": \"C1\" },\n",
       "        { \"color\": \"0xffaf03\", \"size\": 1, \"source\": \"6\", \"target\": \"C0\" },\n",
       "        { \"color\": \"0xffaf03\", \"size\": 1, \"source\": \"6\", \"target\": \"C0\" },\n",
       "        { \"color\": \"0xffaf03\", \"size\": 1, \"source\": \"6\", \"target\": \"C1\" },\n",
       "        { \"color\": \"0xffaf03\", \"size\": 1, \"source\": \"6\", \"target\": \"C1\" },\n",
       "        { \"color\": \"0xffaf03\", \"size\": 1, \"source\": \"6\", \"target\": \"C0\" },\n",
       "        { \"color\": \"0xffaf03\", \"size\": 1, \"source\": \"6\", \"target\": \"C3\" },\n",
       "        { \"color\": \"0xffaf03\", \"size\": 1, \"source\": \"6\", \"target\": \"C3\" },\n",
       "        { \"color\": \"0xffaf03\", \"size\": 1, \"source\": \"53\", \"target\": \"C0\" },\n",
       "        { \"color\": \"0xffaf03\", \"size\": 1, \"source\": \"6\", \"target\": \"C0\" },\n",
       "        { \"color\": \"0xffaf03\", \"size\": 1, \"source\": \"54\", \"target\": \"C3\" }\n",
       "    ],\n",
       "    \"nodes\": {\n",
       "        \"18\": { \"color\": \"0xabb51b\", \"size\": 0.53125 },\n",
       "        \"52\": { \"color\": \"0xacbf8c\", \"size\": 0.53125 },\n",
       "        \"53\": { \"color\": \"0xadc9fd\", \"size\": 0.53125 },\n",
       "        \"54\": { \"color\": \"0xaed46e\", \"size\": 0.53125 },\n",
       "        \"6\": { \"color\": \"0xaaaaaa\", \"size\": 1.5 },\n",
       "        \"C0\": { \"color\": \"0x490357\", \"size\": 3.4999999999999996 },\n",
       "        \"C1\": { \"color\": \"0x22055\", \"size\": 2.964285714285714 },\n",
       "        \"C2\": { \"color\": \"0x194b00\", \"size\": 1.5357142857142856 },\n",
       "        \"C3\": { \"color\": \"0x410200\", \"size\": 2.4285714285714284 }\n",
       "    }\n",
       "});\n",
       "\n",
       "               $d.resizable({\n",
       "                   aspectRatio: 600 / 400,\n",
       "                   resize: function (evt, ui) {\n",
       "                       $d.jgraph.renderer.setSize(ui.size.width,\n",
       "                                                  ui.size.height);\n",
       "                   }\n",
       "               });\n",
       "           });\n",
       "           </script>"
      ],
      "text/plain": [
       "<IPython.core.display.HTML object>"
      ]
     },
     "metadata": {},
     "output_type": "display_data"
    },
    {
     "data": {
      "text/markdown": [
       "<span style=\"color:#000000\">1997/10</span>"
      ],
      "text/plain": [
       "<IPython.core.display.Markdown object>"
      ]
     },
     "metadata": {},
     "output_type": "display_data"
    },
    {
     "data": {
      "text/markdown": [
       "<span style=\"color:#000000\">INDEX:</span>"
      ],
      "text/plain": [
       "<IPython.core.display.Markdown object>"
      ]
     },
     "metadata": {},
     "output_type": "display_data"
    },
    {
     "data": {
      "text/markdown": [
       "<span style=\"color:#000000\">1. ACTOR NODES </span>"
      ],
      "text/plain": [
       "<IPython.core.display.Markdown object>"
      ]
     },
     "metadata": {},
     "output_type": "display_data"
    },
    {
     "data": {
      "text/markdown": [
       "Cluster_55: <span style=\"color:#aaaaaa\">'Seth Dunn':</span>"
      ],
      "text/plain": [
       "<IPython.core.display.Markdown object>"
      ]
     },
     "metadata": {},
     "output_type": "display_data"
    },
    {
     "data": {
      "text/markdown": [
       "Cluster_6: <span style=\"color:#abb51b\">'the journal Nature':</span>"
      ],
      "text/plain": [
       "<IPython.core.display.Markdown object>"
      ]
     },
     "metadata": {},
     "output_type": "display_data"
    },
    {
     "data": {
      "text/markdown": [
       "Cluster_33: <span style=\"color:#acbf8c\">'Richard Mott':</span>"
      ],
      "text/plain": [
       "<IPython.core.display.Markdown object>"
      ]
     },
     "metadata": {},
     "output_type": "display_data"
    },
    {
     "data": {
      "text/markdown": [
       "Cluster_56: <span style=\"color:#adc9fd\">'House Speaker Newt Gingrich':</span>"
      ],
      "text/plain": [
       "<IPython.core.display.Markdown object>"
      ]
     },
     "metadata": {},
     "output_type": "display_data"
    },
    {
     "data": {
      "text/markdown": [
       "Cluster_46: <span style=\"color:#aed46e\">'British Petroleum':</span>"
      ],
      "text/plain": [
       "<IPython.core.display.Markdown object>"
      ]
     },
     "metadata": {},
     "output_type": "display_data"
    },
    {
     "data": {
      "text/markdown": [
       "Cluster_10: <span style=\"color:#afdedf\">'Robert Hahn':</span>"
      ],
      "text/plain": [
       "<IPython.core.display.Markdown object>"
      ]
     },
     "metadata": {},
     "output_type": "display_data"
    },
    {
     "data": {
      "text/markdown": [
       "Cluster_40: <span style=\"color:#b0e950\">'Andrew H. Card Jr.':</span>"
      ],
      "text/plain": [
       "<IPython.core.display.Markdown object>"
      ]
     },
     "metadata": {},
     "output_type": "display_data"
    },
    {
     "data": {
      "text/markdown": [
       "Cluster_57: <span style=\"color:#b1f3c1\">'Cecily Tynan':</span>"
      ],
      "text/plain": [
       "<IPython.core.display.Markdown object>"
      ]
     },
     "metadata": {},
     "output_type": "display_data"
    },
    {
     "data": {
      "text/markdown": [
       "Cluster_27: <span style=\"color:#b2fe32\">'Gail McDonald,':</span>"
      ],
      "text/plain": [
       "<IPython.core.display.Markdown object>"
      ]
     },
     "metadata": {},
     "output_type": "display_data"
    },
    {
     "data": {
      "text/markdown": [
       "Cluster_58: <span style=\"color:#b408a3\">'Todd Stern':</span>"
      ],
      "text/plain": [
       "<IPython.core.display.Markdown object>"
      ]
     },
     "metadata": {},
     "output_type": "display_data"
    },
    {
     "data": {
      "text/markdown": [
       "Cluster_59: <span style=\"color:#b51314\">'Kathleen A. McGinty':</span>"
      ],
      "text/plain": [
       "<IPython.core.display.Markdown object>"
      ]
     },
     "metadata": {},
     "output_type": "display_data"
    },
    {
     "data": {
      "text/markdown": [
       "Cluster_60: <span style=\"color:#b61d85\">'Interior Secretary Bruce Babbitt':</span>"
      ],
      "text/plain": [
       "<IPython.core.display.Markdown object>"
      ]
     },
     "metadata": {},
     "output_type": "display_data"
    },
    {
     "data": {
      "text/markdown": [
       "Cluster_16: <span style=\"color:#b727f6\">'President Clinton':</span>"
      ],
      "text/plain": [
       "<IPython.core.display.Markdown object>"
      ]
     },
     "metadata": {},
     "output_type": "display_data"
    },
    {
     "data": {
      "text/markdown": [
       "Cluster_61: <span style=\"color:#b83267\">'Dale W. Jorgenson':</span>"
      ],
      "text/plain": [
       "<IPython.core.display.Markdown object>"
      ]
     },
     "metadata": {},
     "output_type": "display_data"
    },
    {
     "data": {
      "text/markdown": [
       "Cluster_52: <span style=\"color:#b93cd8\">'Sallie L. Baliunas':</span>"
      ],
      "text/plain": [
       "<IPython.core.display.Markdown object>"
      ]
     },
     "metadata": {},
     "output_type": "display_data"
    },
    {
     "data": {
      "text/markdown": [
       "Cluster_8: <span style=\"color:#ba4749\">'William Nordhaus':</span>"
      ],
      "text/plain": [
       "<IPython.core.display.Markdown object>"
      ]
     },
     "metadata": {},
     "output_type": "display_data"
    },
    {
     "data": {
      "text/markdown": [
       "Cluster_62: <span style=\"color:#bb51ba\">'Carl Pope':</span>"
      ],
      "text/plain": [
       "<IPython.core.display.Markdown object>"
      ]
     },
     "metadata": {},
     "output_type": "display_data"
    },
    {
     "data": {
      "text/markdown": [
       "Cluster_63: <span style=\"color:#bc5c2b\">'Phil Clapp':</span>"
      ],
      "text/plain": [
       "<IPython.core.display.Markdown object>"
      ]
     },
     "metadata": {},
     "output_type": "display_data"
    },
    {
     "data": {
      "text/markdown": [
       "Cluster_64: <span style=\"color:#bd669c\">'One global warming expert':</span>"
      ],
      "text/plain": [
       "<IPython.core.display.Markdown object>"
      ]
     },
     "metadata": {},
     "output_type": "display_data"
    },
    {
     "data": {
      "text/markdown": [
       "Cluster_32: <span style=\"color:#be710d\">'Fred Krupp':</span>"
      ],
      "text/plain": [
       "<IPython.core.display.Markdown object>"
      ]
     },
     "metadata": {},
     "output_type": "display_data"
    },
    {
     "data": {
      "text/markdown": [
       "Cluster_65: <span style=\"color:#bf7b7e\">'Raymond Kopp':</span>"
      ],
      "text/plain": [
       "<IPython.core.display.Markdown object>"
      ]
     },
     "metadata": {},
     "output_type": "display_data"
    },
    {
     "data": {
      "text/markdown": [
       "Cluster_20: <span style=\"color:#c085ef\">'He':</span>"
      ],
      "text/plain": [
       "<IPython.core.display.Markdown object>"
      ]
     },
     "metadata": {},
     "output_type": "display_data"
    },
    {
     "data": {
      "text/markdown": [
       "Cluster_66: <span style=\"color:#c19060\">'Mike Stanton':</span>"
      ],
      "text/plain": [
       "<IPython.core.display.Markdown object>"
      ]
     },
     "metadata": {},
     "output_type": "display_data"
    },
    {
     "data": {
      "text/markdown": [
       "Cluster_11: <span style=\"color:#c29ad1\">'Al Gore':</span>"
      ],
      "text/plain": [
       "<IPython.core.display.Markdown object>"
      ]
     },
     "metadata": {},
     "output_type": "display_data"
    },
    {
     "data": {
      "text/markdown": [
       "Cluster_53: <span style=\"color:#c3a542\">'Britain and Germany,':</span>"
      ],
      "text/plain": [
       "<IPython.core.display.Markdown object>"
      ]
     },
     "metadata": {},
     "output_type": "display_data"
    },
    {
     "data": {
      "text/markdown": [
       "Cluster_47: <span style=\"color:#c4afb3\">'Dan Esty':</span>"
      ],
      "text/plain": [
       "<IPython.core.display.Markdown object>"
      ]
     },
     "metadata": {},
     "output_type": "display_data"
    },
    {
     "data": {
      "text/markdown": [
       "Cluster_67: <span style=\"color:#c5ba24\">'Shirley Zebroski':</span>"
      ],
      "text/plain": [
       "<IPython.core.display.Markdown object>"
      ]
     },
     "metadata": {},
     "output_type": "display_data"
    },
    {
     "data": {
      "text/markdown": [
       "Cluster_68: <span style=\"color:#c6c495\">'CHAFEE':</span>"
      ],
      "text/plain": [
       "<IPython.core.display.Markdown object>"
      ]
     },
     "metadata": {},
     "output_type": "display_data"
    },
    {
     "data": {
      "text/markdown": [
       "Cluster_69: <span style=\"color:#c7cf06\">'David Cole':</span>"
      ],
      "text/plain": [
       "<IPython.core.display.Markdown object>"
      ]
     },
     "metadata": {},
     "output_type": "display_data"
    },
    {
     "data": {
      "text/markdown": [
       "Cluster_70: <span style=\"color:#c8d977\">'Jessica Tuchman Matthews':</span>"
      ],
      "text/plain": [
       "<IPython.core.display.Markdown object>"
      ]
     },
     "metadata": {},
     "output_type": "display_data"
    },
    {
     "data": {
      "text/markdown": [
       "Cluster_38: <span style=\"color:#c9e3e8\">'Congress':</span>"
      ],
      "text/plain": [
       "<IPython.core.display.Markdown object>"
      ]
     },
     "metadata": {},
     "output_type": "display_data"
    },
    {
     "data": {
      "text/markdown": [
       "Cluster_29: <span style=\"color:#caee59\">'Michael Oppenheimer':</span>"
      ],
      "text/plain": [
       "<IPython.core.display.Markdown object>"
      ]
     },
     "metadata": {},
     "output_type": "display_data"
    },
    {
     "data": {
      "text/markdown": [
       "Cluster_71: <span style=\"color:#cbf8ca\">'Opposition in Congress':</span>"
      ],
      "text/plain": [
       "<IPython.core.display.Markdown object>"
      ]
     },
     "metadata": {},
     "output_type": "display_data"
    },
    {
     "data": {
      "text/markdown": [
       "Cluster_72: <span style=\"color:#cd033b\">'Steven Nadel':</span>"
      ],
      "text/plain": [
       "<IPython.core.display.Markdown object>"
      ]
     },
     "metadata": {},
     "output_type": "display_data"
    },
    {
     "data": {
      "text/markdown": [
       "Cluster_50: <span style=\"color:#ce0dac\">'Raul Estrada-Oyuela':</span>"
      ],
      "text/plain": [
       "<IPython.core.display.Markdown object>"
      ]
     },
     "metadata": {},
     "output_type": "display_data"
    },
    {
     "data": {
      "text/markdown": [
       "Cluster_73: <span style=\"color:#cf181d\">'Mark Mwandosya':</span>"
      ],
      "text/plain": [
       "<IPython.core.display.Markdown object>"
      ]
     },
     "metadata": {},
     "output_type": "display_data"
    },
    {
     "data": {
      "text/markdown": [
       "<span style=\"color:#000000\">2. CLAIM NODES </span>"
      ],
      "text/plain": [
       "<IPython.core.display.Markdown object>"
      ]
     },
     "metadata": {},
     "output_type": "display_data"
    },
    {
     "data": {
      "text/markdown": [
       "Cluster_C2: <span style=\"color:#194b00\">'s-percent-greenhouse-nations-gases-reduce:</span>"
      ],
      "text/plain": [
       "<IPython.core.display.Markdown object>"
      ]
     },
     "metadata": {},
     "output_type": "display_data"
    },
    {
     "data": {
      "text/markdown": [
       "Cluster_C0: <span style=\"color:#490357\">greenhouse-american-reduce-energy-administration-binding:</span>"
      ],
      "text/plain": [
       "<IPython.core.display.Markdown object>"
      ]
     },
     "metadata": {},
     "output_type": "display_data"
    },
    {
     "data": {
      "text/markdown": [
       "Cluster_C3: <span style=\"color:#410200\">warming-global-global-threat-gases-dioxide:</span>"
      ],
      "text/plain": [
       "<IPython.core.display.Markdown object>"
      ]
     },
     "metadata": {},
     "output_type": "display_data"
    },
    {
     "data": {
      "text/markdown": [
       "Cluster_C1: <span style=\"color:#22055\">climate-change-climate-human-scientific-''the:</span>"
      ],
      "text/plain": [
       "<IPython.core.display.Markdown object>"
      ]
     },
     "metadata": {},
     "output_type": "display_data"
    },
    {
     "data": {
      "text/markdown": [
       "Cluster_C4: <span style=\"color:#512402\">country-developing-developing-controlling-industrial-treaty:</span>"
      ],
      "text/plain": [
       "<IPython.core.display.Markdown object>"
      ]
     },
     "metadata": {},
     "output_type": "display_data"
    },
    {
     "data": {
      "text/html": [
       "<div id=\"graph-dbf753ea-17e1-4731-bba1-8efc881a9da2\"></div>\n",
       "           <script type=\"text/javascript\">\n",
       "           require.config({baseUrl: '/',\n",
       "                             paths: {jgraph: ['nbextensions/jgraph.min', 'https://rawgit.com/patrickfuller/jgraph/master/js/build/jgraph.min']}});\n",
       "           require(['jgraph'], function () {\n",
       "               var $d = $('#graph-dbf753ea-17e1-4731-bba1-8efc881a9da2');\n",
       "               $d.width(600); $d.height(400);\n",
       "               $d.jgraph = jQuery.extend({}, jgraph);\n",
       "               $d.jgraph.create($d, {nodeSize: 2.000000,\n",
       "                                     edgeSize: 0.250000,\n",
       "                                     defaultNodeColor: '0x5bc0de',\n",
       "                                     defaultEdgeColor: '0xaaaaaa',\n",
       "                                     shader: 'basic',\n",
       "                                     z: 100,\n",
       "                                     runOptimization: true,\n",
       "                                     directed: true,\n",
       "                                     showSave: false});\n",
       "               $d.jgraph.draw({\n",
       "    \"edges\": [\n",
       "        { \"color\": \"0xffaf03\", \"size\": 1, \"source\": \"55\", \"target\": \"C2\" },\n",
       "        { \"color\": \"0xffaf03\", \"size\": 1, \"source\": \"6\", \"target\": \"C0\" },\n",
       "        { \"color\": \"0xaaaaaa\", \"size\": 1, \"source\": \"33\", \"target\": \"C0\" },\n",
       "        { \"color\": \"0xffaf03\", \"size\": 1, \"source\": \"56\", \"target\": \"C0\" },\n",
       "        { \"color\": \"0xffaf03\", \"size\": 1, \"source\": \"46\", \"target\": \"C0\" },\n",
       "        { \"color\": \"0xffaf03\", \"size\": 1, \"source\": \"6\", \"target\": \"C0\" },\n",
       "        { \"color\": \"0xffaf03\", \"size\": 1, \"source\": \"10\", \"target\": \"C0\" },\n",
       "        { \"color\": \"0xffaf03\", \"size\": 1, \"source\": \"6\", \"target\": \"C0\" },\n",
       "        { \"color\": \"0xffaf03\", \"size\": 1, \"source\": \"6\", \"target\": \"C3\" },\n",
       "        { \"color\": \"0xffaf03\", \"size\": 1, \"source\": \"6\", \"target\": \"C1\" },\n",
       "        { \"color\": \"0xffaf03\", \"size\": 1, \"source\": \"40\", \"target\": \"C1\" },\n",
       "        { \"color\": \"0xffaf03\", \"size\": 1, \"source\": \"57\", \"target\": \"C3\" },\n",
       "        { \"color\": \"0xffaf03\", \"size\": 1, \"source\": \"6\", \"target\": \"C3\" },\n",
       "        { \"color\": \"0xffaf03\", \"size\": 1, \"source\": \"27\", \"target\": \"C2\" },\n",
       "        { \"color\": \"0xffaf03\", \"size\": 1, \"source\": \"58\", \"target\": \"C0\" },\n",
       "        { \"color\": \"0xffaf03\", \"size\": 1, \"source\": \"59\", \"target\": \"C1\" },\n",
       "        { \"color\": \"0xffaf03\", \"size\": 1, \"source\": \"60\", \"target\": \"C0\" },\n",
       "        { \"color\": \"0xffaf03\", \"size\": 1, \"source\": \"6\", \"target\": \"C0\" },\n",
       "        { \"color\": \"0xffaf03\", \"size\": 1, \"source\": \"6\", \"target\": \"C4\" },\n",
       "        { \"color\": \"0xaaaaaa\", \"size\": 1, \"source\": \"6\", \"target\": \"C2\" },\n",
       "        { \"color\": \"0xffaf03\", \"size\": 1, \"source\": \"6\", \"target\": \"C4\" },\n",
       "        { \"color\": \"0xffaf03\", \"size\": 1, \"source\": \"6\", \"target\": \"C0\" },\n",
       "        { \"color\": \"0xffaf03\", \"size\": 1, \"source\": \"6\", \"target\": \"C4\" },\n",
       "        { \"color\": \"0xffaf03\", \"size\": 1, \"source\": \"16\", \"target\": \"C3\" },\n",
       "        { \"color\": \"0xffaf03\", \"size\": 1, \"source\": \"61\", \"target\": \"C2\" },\n",
       "        { \"color\": \"0xffaf03\", \"size\": 1, \"source\": \"6\", \"target\": \"C0\" },\n",
       "        { \"color\": \"0xffaf03\", \"size\": 1, \"source\": \"52\", \"target\": \"C1\" },\n",
       "        { \"color\": \"0xffaf03\", \"size\": 1, \"source\": \"6\", \"target\": \"C1\" },\n",
       "        { \"color\": \"0xffaf03\", \"size\": 1, \"source\": \"6\", \"target\": \"C0\" },\n",
       "        { \"color\": \"0xffaf03\", \"size\": 1, \"source\": \"33\", \"target\": \"C2\" },\n",
       "        { \"color\": \"0xffaf03\", \"size\": 1, \"source\": \"10\", \"target\": \"C0\" },\n",
       "        { \"color\": \"0xffaf03\", \"size\": 1, \"source\": \"6\", \"target\": \"C2\" },\n",
       "        { \"color\": \"0xffaf03\", \"size\": 1, \"source\": \"8\", \"target\": \"C0\" },\n",
       "        { \"color\": \"0xffaf03\", \"size\": 1, \"source\": \"6\", \"target\": \"C0\" },\n",
       "        { \"color\": \"0xffaf03\", \"size\": 1, \"source\": \"6\", \"target\": \"C0\" },\n",
       "        { \"color\": \"0xffaf03\", \"size\": 1, \"source\": \"6\", \"target\": \"C4\" },\n",
       "        { \"color\": \"0xffaf03\", \"size\": 1, \"source\": \"6\", \"target\": \"C4\" },\n",
       "        { \"color\": \"0xffaf03\", \"size\": 1, \"source\": \"62\", \"target\": \"C2\" },\n",
       "        { \"color\": \"0xffaf03\", \"size\": 1, \"source\": \"63\", \"target\": \"C3\" },\n",
       "        { \"color\": \"0xffaf03\", \"size\": 1, \"source\": \"6\", \"target\": \"C1\" },\n",
       "        { \"color\": \"0xffaf03\", \"size\": 1, \"source\": \"6\", \"target\": \"C0\" },\n",
       "        { \"color\": \"0xffaf03\", \"size\": 1, \"source\": \"64\", \"target\": \"C0\" },\n",
       "        { \"color\": \"0xffaf03\", \"size\": 1, \"source\": \"6\", \"target\": \"C0\" },\n",
       "        { \"color\": \"0xffaf03\", \"size\": 1, \"source\": \"32\", \"target\": \"C2\" },\n",
       "        { \"color\": \"0xffaf03\", \"size\": 1, \"source\": \"65\", \"target\": \"C0\" },\n",
       "        { \"color\": \"0xffaf03\", \"size\": 1, \"source\": \"6\", \"target\": \"C3\" },\n",
       "        { \"color\": \"0xffaf03\", \"size\": 1, \"source\": \"16\", \"target\": \"C1\" },\n",
       "        { \"color\": \"0xffaf03\", \"size\": 1, \"source\": \"20\", \"target\": \"C0\" },\n",
       "        { \"color\": \"0xffaf03\", \"size\": 1, \"source\": \"66\", \"target\": \"C2\" },\n",
       "        { \"color\": \"0xffaf03\", \"size\": 1, \"source\": \"11\", \"target\": \"C3\" },\n",
       "        { \"color\": \"0xffaf03\", \"size\": 1, \"source\": \"53\", \"target\": \"C0\" },\n",
       "        { \"color\": \"0xffaf03\", \"size\": 1, \"source\": \"47\", \"target\": \"C2\" },\n",
       "        { \"color\": \"0xffaf03\", \"size\": 1, \"source\": \"6\", \"target\": \"C0\" },\n",
       "        { \"color\": \"0xffaf03\", \"size\": 1, \"source\": \"6\", \"target\": \"C0\" },\n",
       "        { \"color\": \"0xffaf03\", \"size\": 1, \"source\": \"6\", \"target\": \"C0\" },\n",
       "        { \"color\": \"0xffaf03\", \"size\": 1, \"source\": \"67\", \"target\": \"C0\" },\n",
       "        { \"color\": \"0xffaf03\", \"size\": 1, \"source\": \"68\", \"target\": \"C0\" },\n",
       "        { \"color\": \"0xffaf03\", \"size\": 1, \"source\": \"69\", \"target\": \"C1\" },\n",
       "        { \"color\": \"0xffaf03\", \"size\": 1, \"source\": \"6\", \"target\": \"C0\" },\n",
       "        { \"color\": \"0xffaf03\", \"size\": 1, \"source\": \"16\", \"target\": \"C2\" },\n",
       "        { \"color\": \"0xffaf03\", \"size\": 1, \"source\": \"6\", \"target\": \"C0\" },\n",
       "        { \"color\": \"0xffaf03\", \"size\": 1, \"source\": \"6\", \"target\": \"C0\" },\n",
       "        { \"color\": \"0xaaaaaa\", \"size\": 1, \"source\": \"70\", \"target\": \"C0\" },\n",
       "        { \"color\": \"0xaaaaaa\", \"size\": 1, \"source\": \"38\", \"target\": \"C2\" },\n",
       "        { \"color\": \"0xffaf03\", \"size\": 1, \"source\": \"6\", \"target\": \"C0\" },\n",
       "        { \"color\": \"0xffaf03\", \"size\": 1, \"source\": \"29\", \"target\": \"C0\" },\n",
       "        { \"color\": \"0xffaf03\", \"size\": 1, \"source\": \"6\", \"target\": \"C0\" },\n",
       "        { \"color\": \"0xffaf03\", \"size\": 1, \"source\": \"6\", \"target\": \"C0\" },\n",
       "        { \"color\": \"0xffaf03\", \"size\": 1, \"source\": \"10\", \"target\": \"C0\" },\n",
       "        { \"color\": \"0xffaf03\", \"size\": 1, \"source\": \"6\", \"target\": \"C0\" },\n",
       "        { \"color\": \"0xffaf03\", \"size\": 1, \"source\": \"6\", \"target\": \"C0\" },\n",
       "        { \"color\": \"0xffaf03\", \"size\": 1, \"source\": \"71\", \"target\": \"C0\" },\n",
       "        { \"color\": \"0xffaf03\", \"size\": 1, \"source\": \"6\", \"target\": \"C1\" },\n",
       "        { \"color\": \"0xffaf03\", \"size\": 1, \"source\": \"6\", \"target\": \"C0\" },\n",
       "        { \"color\": \"0xffaf03\", \"size\": 1, \"source\": \"6\", \"target\": \"C0\" },\n",
       "        { \"color\": \"0xffaf03\", \"size\": 1, \"source\": \"6\", \"target\": \"C0\" },\n",
       "        { \"color\": \"0xffaf03\", \"size\": 1, \"source\": \"72\", \"target\": \"C0\" },\n",
       "        { \"color\": \"0xffaf03\", \"size\": 1, \"source\": \"6\", \"target\": \"C0\" },\n",
       "        { \"color\": \"0xffaf03\", \"size\": 1, \"source\": \"6\", \"target\": \"C2\" },\n",
       "        { \"color\": \"0xffaf03\", \"size\": 1, \"source\": \"16\", \"target\": \"C0\" },\n",
       "        { \"color\": \"0xffaf03\", \"size\": 1, \"source\": \"16\", \"target\": \"C0\" },\n",
       "        { \"color\": \"0xffaf03\", \"size\": 1, \"source\": \"6\", \"target\": \"C0\" },\n",
       "        { \"color\": \"0xffaf03\", \"size\": 1, \"source\": \"6\", \"target\": \"C4\" },\n",
       "        { \"color\": \"0xffaf03\", \"size\": 1, \"source\": \"16\", \"target\": \"C4\" },\n",
       "        { \"color\": \"0xaaaaaa\", \"size\": 1, \"source\": \"6\", \"target\": \"C2\" },\n",
       "        { \"color\": \"0xffaf03\", \"size\": 1, \"source\": \"27\", \"target\": \"C0\" },\n",
       "        { \"color\": \"0xffaf03\", \"size\": 1, \"source\": \"50\", \"target\": \"C0\" },\n",
       "        { \"color\": \"0xffaf03\", \"size\": 1, \"source\": \"20\", \"target\": \"C2\" },\n",
       "        { \"color\": \"0xffaf03\", \"size\": 1, \"source\": \"6\", \"target\": \"C0\" },\n",
       "        { \"color\": \"0xffaf03\", \"size\": 1, \"source\": \"73\", \"target\": \"C0\" },\n",
       "        { \"color\": \"0xffaf03\", \"size\": 1, \"source\": \"6\", \"target\": \"C2\" }\n",
       "    ],\n",
       "    \"nodes\": {\n",
       "        \"10\": { \"color\": \"0xafdedf\", \"size\": 0.5652173913043478 },\n",
       "        \"11\": { \"color\": \"0xc29ad1\", \"size\": 0.5217391304347826 },\n",
       "        \"16\": { \"color\": \"0xb727f6\", \"size\": 0.6304347826086957 },\n",
       "        \"20\": { \"color\": \"0xc085ef\", \"size\": 0.5434782608695652 },\n",
       "        \"27\": { \"color\": \"0xb2fe32\", \"size\": 0.5434782608695652 },\n",
       "        \"29\": { \"color\": \"0xcaee59\", \"size\": 0.5217391304347826 },\n",
       "        \"32\": { \"color\": \"0xbe710d\", \"size\": 0.5217391304347826 },\n",
       "        \"33\": { \"color\": \"0xacbf8c\", \"size\": 0.5434782608695652 },\n",
       "        \"38\": { \"color\": \"0xc9e3e8\", \"size\": 0.5217391304347826 },\n",
       "        \"40\": { \"color\": \"0xb0e950\", \"size\": 0.5217391304347826 },\n",
       "        \"46\": { \"color\": \"0xaed46e\", \"size\": 0.5217391304347826 },\n",
       "        \"47\": { \"color\": \"0xc4afb3\", \"size\": 0.5217391304347826 },\n",
       "        \"50\": { \"color\": \"0xce0dac\", \"size\": 0.5217391304347826 },\n",
       "        \"52\": { \"color\": \"0xb93cd8\", \"size\": 0.5217391304347826 },\n",
       "        \"53\": { \"color\": \"0xc3a542\", \"size\": 0.5217391304347826 },\n",
       "        \"55\": { \"color\": \"0xaaaaaa\", \"size\": 0.5217391304347826 },\n",
       "        \"56\": { \"color\": \"0xadc9fd\", \"size\": 0.5217391304347826 },\n",
       "        \"57\": { \"color\": \"0xb1f3c1\", \"size\": 0.5217391304347826 },\n",
       "        \"58\": { \"color\": \"0xb408a3\", \"size\": 0.5217391304347826 },\n",
       "        \"59\": { \"color\": \"0xb51314\", \"size\": 0.5217391304347826 },\n",
       "        \"6\": { \"color\": \"0xabb51b\", \"size\": 1.5 },\n",
       "        \"60\": { \"color\": \"0xb61d85\", \"size\": 0.5217391304347826 },\n",
       "        \"61\": { \"color\": \"0xb83267\", \"size\": 0.5217391304347826 },\n",
       "        \"62\": { \"color\": \"0xbb51ba\", \"size\": 0.5217391304347826 },\n",
       "        \"63\": { \"color\": \"0xbc5c2b\", \"size\": 0.5217391304347826 },\n",
       "        \"64\": { \"color\": \"0xbd669c\", \"size\": 0.5217391304347826 },\n",
       "        \"65\": { \"color\": \"0xbf7b7e\", \"size\": 0.5217391304347826 },\n",
       "        \"66\": { \"color\": \"0xc19060\", \"size\": 0.5217391304347826 },\n",
       "        \"67\": { \"color\": \"0xc5ba24\", \"size\": 0.5217391304347826 },\n",
       "        \"68\": { \"color\": \"0xc6c495\", \"size\": 0.5217391304347826 },\n",
       "        \"69\": { \"color\": \"0xc7cf06\", \"size\": 0.5217391304347826 },\n",
       "        \"70\": { \"color\": \"0xc8d977\", \"size\": 0.5217391304347826 },\n",
       "        \"71\": { \"color\": \"0xcbf8ca\", \"size\": 0.5217391304347826 },\n",
       "        \"72\": { \"color\": \"0xcd033b\", \"size\": 0.5217391304347826 },\n",
       "        \"73\": { \"color\": \"0xcf181d\", \"size\": 0.5217391304347826 },\n",
       "        \"8\": { \"color\": \"0xba4749\", \"size\": 0.5217391304347826 },\n",
       "        \"C0\": { \"color\": \"0x490357\", \"size\": 3.5 },\n",
       "        \"C1\": { \"color\": \"0x22055\", \"size\": 1.4326923076923077 },\n",
       "        \"C2\": { \"color\": \"0x194b00\", \"size\": 1.7692307692307692 },\n",
       "        \"C3\": { \"color\": \"0x410200\", \"size\": 1.3365384615384617 },\n",
       "        \"C4\": { \"color\": \"0x512402\", \"size\": 1.3365384615384617 }\n",
       "    }\n",
       "});\n",
       "\n",
       "               $d.resizable({\n",
       "                   aspectRatio: 600 / 400,\n",
       "                   resize: function (evt, ui) {\n",
       "                       $d.jgraph.renderer.setSize(ui.size.width,\n",
       "                                                  ui.size.height);\n",
       "                   }\n",
       "               });\n",
       "           });\n",
       "           </script>"
      ],
      "text/plain": [
       "<IPython.core.display.HTML object>"
      ]
     },
     "metadata": {},
     "output_type": "display_data"
    }
   ],
   "source": [
    "#############################\n",
    "## Custer Representatives:\n",
    "    # claim_names\n",
    "    # act_cluster_keys\n",
    "#############################\n",
    "init = 0\n",
    "end = -1\n",
    "for key in timestamps_counts.keys():\n",
    "    end += (timestamps_counts[key])\n",
    "    nw, col_ix = act_claim_graph(claim_text,act_cluster,actor,supp_opp,init,end)\n",
    "    claim_start = 0\n",
    "    ## date printing\n",
    "    display (Markdown('<span style=\"color:#000000\">'+key+'</span>'))\n",
    "    ## index printing\n",
    "    display (Markdown('<span style=\"color:#000000\">INDEX:</span>'))\n",
    "    ## actors\n",
    "    display (Markdown('<span style=\"color:#000000\">1. ACTOR NODES </span>'))\n",
    "    for i in range(0,len(col_ix.keys())):\n",
    "        k = list(col_ix.keys())[i]\n",
    "        colours = hex(col_ix[k])[2:]\n",
    "        ## actors\n",
    "        if(k[0]!='C'):\n",
    "            display (Markdown('Cluster_'+k+': <span style=\"color:#'+colours+'\">'+act_cluster_keys[int(k)]+\":\"+'</span>'))\n",
    "        else:\n",
    "            break\n",
    "    ## claims\n",
    "    display (Markdown('<span style=\"color:#000000\">2. CLAIM NODES </span>'))            \n",
    "    for j in range(i,len(col_ix.keys())):\n",
    "        k = list(col_ix.keys())[j]\n",
    "        colours = hex(col_ix[k])[2:]\n",
    "        cluster_name = \"-\".join(claim_names[int(k[1:])])\n",
    "        display (Markdown('Cluster_'+k+': <span style=\"color:#'+colours+'\">'+cluster_name+\":\"+'</span>'))\n",
    "\n",
    "    jgraph.draw(nw)\n",
    "#     break\n",
    "#     time.sleep(15)\n",
    "    init = end"
   ]
  }
 ],
 "metadata": {
  "kernelspec": {
   "display_name": "climachange_env",
   "language": "python",
   "name": "climachange_env"
  },
  "language_info": {
   "codemirror_mode": {
    "name": "ipython",
    "version": 3
   },
   "file_extension": ".py",
   "mimetype": "text/x-python",
   "name": "python",
   "nbconvert_exporter": "python",
   "pygments_lexer": "ipython3",
   "version": "3.6.9"
  }
 },
 "nbformat": 4,
 "nbformat_minor": 2
}
